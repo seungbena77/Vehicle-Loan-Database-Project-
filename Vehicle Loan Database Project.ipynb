{
 "cells": [
  {
   "cell_type": "markdown",
   "id": "f8881d27-90e5-4a3c-895c-807d0db0c48a",
   "metadata": {},
   "source": [
    "## Vehicle Loan Database Project\n",
    "##### This dataset provides a comprehensive overview of potential loan applicants' profiles, specifically tailored for the Indian demographic. It encapsulates a range of features, from basic demographics to financial details, that can be instrumental in assessing the creditworthiness of an individual\n",
    "Dataset used in the project can be download here:https://www.kaggle.com/datasets/yashkmd/credit-profile-two-wheeler-loan-dataset\n",
    "\n",
    " #### Dataset Key Information :\n",
    "  - Age ------------- Age of Apllicant\n",
    "  - Gender ---------- Male / Female\n",
    "  - Income ---------- Applicant income\n",
    "  - Credit Score------Applicant creditworthiness\n",
    "  - Credit History Length--credit accounts active\n",
    "  - Number of Existing Loans --Applicant existing loans\n",
    "  - LoanAmount ----------- Loan amount in thousands\n",
    "  - Loan Tenure-------loan in months\n",
    "  - Existing Customer--Active Customer\n",
    "  - State  ------------State\n",
    "  - City  -------------- City\n",
    "  - LTV Ratio ---------- LTV Ratio\n",
    "  - Employment Profile -- Employment Summary\n",
    "  - Profile Score ------- rating & assessment Score\n",
    "  - Occupation ---------- job category \n",
    " #### Type of problem\n",
    "This is a supervised classification machine learning problem"
   ]
  },
  {
   "cell_type": "markdown",
   "id": "689eb76b-60be-4e45-8248-fdbe6cc257c7",
   "metadata": {},
   "source": [
    "#### Import libraries"
   ]
  },
  {
   "cell_type": "code",
   "execution_count": 107,
   "id": "d29c3209-9db0-494d-a435-56a891ee8279",
   "metadata": {},
   "outputs": [],
   "source": [
    "import pandas as pd\n",
    "import numpy as np\n",
    "from sklearn.model_selection import train_test_split\n",
    "#from ydata_profiling import ProfileReport\n",
    "from sklearn.preprocessing import LabelEncoder\n",
    "from sklearn.ensemble import RandomForestClassifier\n",
    "from sklearn.linear_model  import LogisticRegression\n",
    "from sklearn.svm import SVC\n",
    "from sklearn import metrics\n",
    "import matplotlib.pyplot as plt\n",
    "import seaborn as sns\n",
    "%matplotlib inline"
   ]
  },
  {
   "cell_type": "code",
   "execution_count": 108,
   "id": "0fe9ff00-894c-4736-a2e9-30684265db00",
   "metadata": {},
   "outputs": [
    {
     "data": {
      "text/html": [
       "<div>\n",
       "<style scoped>\n",
       "    .dataframe tbody tr th:only-of-type {\n",
       "        vertical-align: middle;\n",
       "    }\n",
       "\n",
       "    .dataframe tbody tr th {\n",
       "        vertical-align: top;\n",
       "    }\n",
       "\n",
       "    .dataframe thead th {\n",
       "        text-align: right;\n",
       "    }\n",
       "</style>\n",
       "<table border=\"1\" class=\"dataframe\">\n",
       "  <thead>\n",
       "    <tr style=\"text-align: right;\">\n",
       "      <th></th>\n",
       "      <th>Age</th>\n",
       "      <th>Gender</th>\n",
       "      <th>Income</th>\n",
       "      <th>Credit Score</th>\n",
       "      <th>Credit History Length</th>\n",
       "      <th>Number of Existing Loans</th>\n",
       "      <th>Loan Amount</th>\n",
       "      <th>Loan Tenure</th>\n",
       "      <th>Existing Customer</th>\n",
       "      <th>State</th>\n",
       "      <th>City</th>\n",
       "      <th>LTV Ratio</th>\n",
       "      <th>Employment Profile</th>\n",
       "      <th>Profile Score</th>\n",
       "      <th>Occupation</th>\n",
       "    </tr>\n",
       "  </thead>\n",
       "  <tbody>\n",
       "    <tr>\n",
       "      <th>0</th>\n",
       "      <td>31</td>\n",
       "      <td>Male</td>\n",
       "      <td>36000</td>\n",
       "      <td>604</td>\n",
       "      <td>487</td>\n",
       "      <td>5</td>\n",
       "      <td>109373</td>\n",
       "      <td>221</td>\n",
       "      <td>No</td>\n",
       "      <td>Karnataka</td>\n",
       "      <td>Mysuru</td>\n",
       "      <td>90.943430</td>\n",
       "      <td>Salaried</td>\n",
       "      <td>77</td>\n",
       "      <td>Doctor</td>\n",
       "    </tr>\n",
       "    <tr>\n",
       "      <th>1</th>\n",
       "      <td>25</td>\n",
       "      <td>Male</td>\n",
       "      <td>50000</td>\n",
       "      <td>447</td>\n",
       "      <td>386</td>\n",
       "      <td>2</td>\n",
       "      <td>150000</td>\n",
       "      <td>89</td>\n",
       "      <td>No</td>\n",
       "      <td>Karnataka</td>\n",
       "      <td>Bengaluru</td>\n",
       "      <td>91.135253</td>\n",
       "      <td>Salaried</td>\n",
       "      <td>43</td>\n",
       "      <td>Software Engineer</td>\n",
       "    </tr>\n",
       "    <tr>\n",
       "      <th>2</th>\n",
       "      <td>62</td>\n",
       "      <td>Other</td>\n",
       "      <td>178000</td>\n",
       "      <td>850</td>\n",
       "      <td>503</td>\n",
       "      <td>10</td>\n",
       "      <td>69099</td>\n",
       "      <td>110</td>\n",
       "      <td>Yes</td>\n",
       "      <td>Uttar Pradesh</td>\n",
       "      <td>Kanpur</td>\n",
       "      <td>40.000000</td>\n",
       "      <td>Salaried</td>\n",
       "      <td>90</td>\n",
       "      <td>Banker</td>\n",
       "    </tr>\n",
       "    <tr>\n",
       "      <th>3</th>\n",
       "      <td>69</td>\n",
       "      <td>Female</td>\n",
       "      <td>46000</td>\n",
       "      <td>668</td>\n",
       "      <td>349</td>\n",
       "      <td>6</td>\n",
       "      <td>150000</td>\n",
       "      <td>148</td>\n",
       "      <td>Yes</td>\n",
       "      <td>Karnataka</td>\n",
       "      <td>Bengaluru</td>\n",
       "      <td>87.393365</td>\n",
       "      <td>Self-Employed</td>\n",
       "      <td>86</td>\n",
       "      <td>Contractor</td>\n",
       "    </tr>\n",
       "    <tr>\n",
       "      <th>4</th>\n",
       "      <td>52</td>\n",
       "      <td>Male</td>\n",
       "      <td>132000</td>\n",
       "      <td>601</td>\n",
       "      <td>553</td>\n",
       "      <td>5</td>\n",
       "      <td>150000</td>\n",
       "      <td>157</td>\n",
       "      <td>No</td>\n",
       "      <td>Karnataka</td>\n",
       "      <td>Mysuru</td>\n",
       "      <td>66.158757</td>\n",
       "      <td>Salaried</td>\n",
       "      <td>90</td>\n",
       "      <td>Teacher</td>\n",
       "    </tr>\n",
       "  </tbody>\n",
       "</table>\n",
       "</div>"
      ],
      "text/plain": [
       "   Age  Gender  Income  Credit Score  Credit History Length  \\\n",
       "0   31    Male   36000           604                    487   \n",
       "1   25    Male   50000           447                    386   \n",
       "2   62   Other  178000           850                    503   \n",
       "3   69  Female   46000           668                    349   \n",
       "4   52    Male  132000           601                    553   \n",
       "\n",
       "   Number of Existing Loans  Loan Amount  Loan Tenure Existing Customer  \\\n",
       "0                         5       109373          221                No   \n",
       "1                         2       150000           89                No   \n",
       "2                        10        69099          110               Yes   \n",
       "3                         6       150000          148               Yes   \n",
       "4                         5       150000          157                No   \n",
       "\n",
       "           State       City  LTV Ratio Employment Profile  Profile Score  \\\n",
       "0      Karnataka     Mysuru  90.943430           Salaried             77   \n",
       "1      Karnataka  Bengaluru  91.135253           Salaried             43   \n",
       "2  Uttar Pradesh     Kanpur  40.000000           Salaried             90   \n",
       "3      Karnataka  Bengaluru  87.393365      Self-Employed             86   \n",
       "4      Karnataka     Mysuru  66.158757           Salaried             90   \n",
       "\n",
       "          Occupation  \n",
       "0             Doctor  \n",
       "1  Software Engineer  \n",
       "2             Banker  \n",
       "3         Contractor  \n",
       "4            Teacher  "
      ]
     },
     "execution_count": 108,
     "metadata": {},
     "output_type": "execute_result"
    }
   ],
   "source": [
    "# Read the Excel file\n",
    "df = pd.read_csv(r\"C:\\Users\\hp\\Desktop\\GOMYCODE\\GOMYCODE\\credit_data.csv\")\n",
    "df.head()"
   ]
  },
  {
   "cell_type": "code",
   "execution_count": 109,
   "id": "168472da-a81e-42e3-98f7-c4bc5105324e",
   "metadata": {},
   "outputs": [],
   "source": [
    "# Make a copy of the original dataframe\n",
    "df1 = df.copy()"
   ]
  },
  {
   "cell_type": "markdown",
   "id": "d67617ac-8aa9-4fb5-add3-32d8bd4de03a",
   "metadata": {},
   "source": [
    "### Data Exploration"
   ]
  },
  {
   "cell_type": "code",
   "execution_count": 110,
   "id": "71ebe7d2-18b0-4ca8-a269-fee22b5e7255",
   "metadata": {},
   "outputs": [
    {
     "data": {
      "text/plain": [
       "Age                             0\n",
       "Gender                          0\n",
       "Income                          0\n",
       "Credit Score                    0\n",
       "Credit History Length           0\n",
       "Number of Existing Loans        0\n",
       "Loan Amount                     0\n",
       "Loan Tenure                     0\n",
       "Existing Customer               0\n",
       "State                           0\n",
       "City                            0\n",
       "LTV Ratio                       0\n",
       "Employment Profile              0\n",
       "Profile Score                   0\n",
       "Occupation                  18272\n",
       "dtype: int64"
      ]
     },
     "execution_count": 110,
     "metadata": {},
     "output_type": "execute_result"
    }
   ],
   "source": [
    "# Checking for null values\n",
    "df1.isna().sum()"
   ]
  },
  {
   "cell_type": "code",
   "execution_count": 111,
   "id": "b96f3156-b070-4660-9dc9-bed646208114",
   "metadata": {},
   "outputs": [
    {
     "data": {
      "text/plain": [
       "0         False\n",
       "1         False\n",
       "2         False\n",
       "3         False\n",
       "4         False\n",
       "          ...  \n",
       "279851     True\n",
       "279852    False\n",
       "279853     True\n",
       "279854     True\n",
       "279855    False\n",
       "Length: 279856, dtype: bool"
      ]
     },
     "execution_count": 111,
     "metadata": {},
     "output_type": "execute_result"
    }
   ],
   "source": [
    "df1.duplicated()"
   ]
  },
  {
   "cell_type": "code",
   "execution_count": 112,
   "id": "22833e98-17e6-4661-bf24-49fce1280bb0",
   "metadata": {},
   "outputs": [
    {
     "name": "stdout",
     "output_type": "stream",
     "text": [
      "Age                           int64\n",
      "Gender                       object\n",
      "Income                        int64\n",
      "Credit Score                  int64\n",
      "Credit History Length         int64\n",
      "Number of Existing Loans      int64\n",
      "Loan Amount                   int64\n",
      "Loan Tenure                   int64\n",
      "Existing Customer            object\n",
      "State                        object\n",
      "City                         object\n",
      "LTV Ratio                   float64\n",
      "Employment Profile           object\n",
      "Profile Score                 int64\n",
      "Occupation                   object\n",
      "dtype: object\n"
     ]
    }
   ],
   "source": [
    "print(df1.dtypes)"
   ]
  },
  {
   "cell_type": "code",
   "execution_count": 113,
   "id": "05ef566a-35ad-4f57-8331-104ce1190e8d",
   "metadata": {},
   "outputs": [
    {
     "name": "stdout",
     "output_type": "stream",
     "text": [
      "<class 'pandas.core.frame.DataFrame'>\n",
      "RangeIndex: 279856 entries, 0 to 279855\n",
      "Data columns (total 15 columns):\n",
      " #   Column                    Non-Null Count   Dtype  \n",
      "---  ------                    --------------   -----  \n",
      " 0   Age                       279856 non-null  int64  \n",
      " 1   Gender                    279856 non-null  object \n",
      " 2   Income                    279856 non-null  int64  \n",
      " 3   Credit Score              279856 non-null  int64  \n",
      " 4   Credit History Length     279856 non-null  int64  \n",
      " 5   Number of Existing Loans  279856 non-null  int64  \n",
      " 6   Loan Amount               279856 non-null  int64  \n",
      " 7   Loan Tenure               279856 non-null  int64  \n",
      " 8   Existing Customer         279856 non-null  object \n",
      " 9   State                     279856 non-null  object \n",
      " 10  City                      279856 non-null  object \n",
      " 11  LTV Ratio                 279856 non-null  float64\n",
      " 12  Employment Profile        279856 non-null  object \n",
      " 13  Profile Score             279856 non-null  int64  \n",
      " 14  Occupation                261584 non-null  object \n",
      "dtypes: float64(1), int64(8), object(6)\n",
      "memory usage: 32.0+ MB\n"
     ]
    }
   ],
   "source": [
    "df1.info()"
   ]
  },
  {
   "cell_type": "markdown",
   "id": "77049d3a-05a8-4003-a320-64e1edcfa9d1",
   "metadata": {},
   "source": [
    "### Data Cleaning"
   ]
  },
  {
   "cell_type": "code",
   "execution_count": 114,
   "id": "964ce842-2da5-4892-8cf7-0ea7eaa13f01",
   "metadata": {},
   "outputs": [],
   "source": [
    "# change columns names to lowercase\n",
    "def change_column_name(col):\n",
    "    return col.lower()"
   ]
  },
  {
   "cell_type": "code",
   "execution_count": 115,
   "id": "31c993d7-0c94-44db-8938-910f3a8bb541",
   "metadata": {},
   "outputs": [],
   "source": [
    "header = []\n",
    "for col in df1.columns:\n",
    "    new_header = header.append(col.lower())\n",
    "df1.columns = header"
   ]
  },
  {
   "cell_type": "code",
   "execution_count": 116,
   "id": "5cbb96a8-c3d3-495f-9491-6b851459417e",
   "metadata": {},
   "outputs": [
    {
     "name": "stdout",
     "output_type": "stream",
     "text": [
      "Remaining columns in the DataFrame:\n",
      "Index(['age', 'gender', 'income', 'credit score', 'credit history length',\n",
      "       'number of existing loans', 'loan amount', 'loan tenure', 'ltv ratio',\n",
      "       'profile score'],\n",
      "      dtype='object')\n"
     ]
    }
   ],
   "source": [
    "df1 = pd.DataFrame(df1)\n",
    "\n",
    "# List of columns to drop\n",
    "columns_to_drop = ['existing customer', 'state', 'city', 'employment profile', 'occupation']\n",
    "\n",
    "\n",
    "#Drop the specified columns\n",
    "df1 = df1.drop(columns=columns_to_drop)\n",
    "\n",
    "# Print the remaining columns\n",
    "print(\"Remaining columns in the DataFrame:\")\n",
    "print(df1.columns)"
   ]
  },
  {
   "cell_type": "code",
   "execution_count": 117,
   "id": "0bcf3ed5-98c0-4cee-90da-6b0018a744b3",
   "metadata": {},
   "outputs": [],
   "source": [
    "# Rename selected column names\n",
    "df1 = df1.rename(columns={\n",
    "    \"age\": \"age\",\n",
    "    \"gender\": \"gender\",\n",
    "    \"income\": \"income\",\n",
    "    \"credit score\": \"credit_score\",\n",
    "    \"credit history length\": \"credit_history_length\",\n",
    "    \"number of existing loans\": \"number_existing_loans\",\n",
    "    \"loan amount\": \"loan_amount\",\n",
    "    \"loan tenure\": \"loan_tenure\",\n",
    "    \"ltv ratio\": \"ltv_ratio\",\n",
    "    \"profile score\": \"profile_score\",\n",
    "})"
   ]
  },
  {
   "cell_type": "code",
   "execution_count": 118,
   "id": "4af14c93-0215-48e4-9617-74904e417a32",
   "metadata": {},
   "outputs": [],
   "source": [
    "# Create a LabelEncoder instance\n",
    "label_encoder = LabelEncoder()\n",
    "\n",
    "# Apply LabelEncoder to the 'gender' column\n",
    "df1['gender'] = label_encoder.fit_transform(df1['gender'])"
   ]
  },
  {
   "cell_type": "code",
   "execution_count": 119,
   "id": "26b4a248-4695-4a25-aa19-a17d3b206f0c",
   "metadata": {},
   "outputs": [
    {
     "data": {
      "text/html": [
       "<div>\n",
       "<style scoped>\n",
       "    .dataframe tbody tr th:only-of-type {\n",
       "        vertical-align: middle;\n",
       "    }\n",
       "\n",
       "    .dataframe tbody tr th {\n",
       "        vertical-align: top;\n",
       "    }\n",
       "\n",
       "    .dataframe thead th {\n",
       "        text-align: right;\n",
       "    }\n",
       "</style>\n",
       "<table border=\"1\" class=\"dataframe\">\n",
       "  <thead>\n",
       "    <tr style=\"text-align: right;\">\n",
       "      <th></th>\n",
       "      <th>age</th>\n",
       "      <th>gender</th>\n",
       "      <th>income</th>\n",
       "      <th>credit_score</th>\n",
       "      <th>credit_history_length</th>\n",
       "      <th>number_existing_loans</th>\n",
       "      <th>loan_amount</th>\n",
       "      <th>loan_tenure</th>\n",
       "      <th>ltv_ratio</th>\n",
       "      <th>profile_score</th>\n",
       "    </tr>\n",
       "  </thead>\n",
       "  <tbody>\n",
       "    <tr>\n",
       "      <th>0</th>\n",
       "      <td>31</td>\n",
       "      <td>1</td>\n",
       "      <td>36000</td>\n",
       "      <td>604</td>\n",
       "      <td>487</td>\n",
       "      <td>5</td>\n",
       "      <td>109373</td>\n",
       "      <td>221</td>\n",
       "      <td>90.943430</td>\n",
       "      <td>77</td>\n",
       "    </tr>\n",
       "    <tr>\n",
       "      <th>1</th>\n",
       "      <td>25</td>\n",
       "      <td>1</td>\n",
       "      <td>50000</td>\n",
       "      <td>447</td>\n",
       "      <td>386</td>\n",
       "      <td>2</td>\n",
       "      <td>150000</td>\n",
       "      <td>89</td>\n",
       "      <td>91.135253</td>\n",
       "      <td>43</td>\n",
       "    </tr>\n",
       "    <tr>\n",
       "      <th>2</th>\n",
       "      <td>62</td>\n",
       "      <td>2</td>\n",
       "      <td>178000</td>\n",
       "      <td>850</td>\n",
       "      <td>503</td>\n",
       "      <td>10</td>\n",
       "      <td>69099</td>\n",
       "      <td>110</td>\n",
       "      <td>40.000000</td>\n",
       "      <td>90</td>\n",
       "    </tr>\n",
       "    <tr>\n",
       "      <th>3</th>\n",
       "      <td>69</td>\n",
       "      <td>0</td>\n",
       "      <td>46000</td>\n",
       "      <td>668</td>\n",
       "      <td>349</td>\n",
       "      <td>6</td>\n",
       "      <td>150000</td>\n",
       "      <td>148</td>\n",
       "      <td>87.393365</td>\n",
       "      <td>86</td>\n",
       "    </tr>\n",
       "    <tr>\n",
       "      <th>4</th>\n",
       "      <td>52</td>\n",
       "      <td>1</td>\n",
       "      <td>132000</td>\n",
       "      <td>601</td>\n",
       "      <td>553</td>\n",
       "      <td>5</td>\n",
       "      <td>150000</td>\n",
       "      <td>157</td>\n",
       "      <td>66.158757</td>\n",
       "      <td>90</td>\n",
       "    </tr>\n",
       "  </tbody>\n",
       "</table>\n",
       "</div>"
      ],
      "text/plain": [
       "   age  gender  income  credit_score  credit_history_length  \\\n",
       "0   31       1   36000           604                    487   \n",
       "1   25       1   50000           447                    386   \n",
       "2   62       2  178000           850                    503   \n",
       "3   69       0   46000           668                    349   \n",
       "4   52       1  132000           601                    553   \n",
       "\n",
       "   number_existing_loans  loan_amount  loan_tenure  ltv_ratio  profile_score  \n",
       "0                      5       109373          221  90.943430             77  \n",
       "1                      2       150000           89  91.135253             43  \n",
       "2                     10        69099          110  40.000000             90  \n",
       "3                      6       150000          148  87.393365             86  \n",
       "4                      5       150000          157  66.158757             90  "
      ]
     },
     "execution_count": 119,
     "metadata": {},
     "output_type": "execute_result"
    }
   ],
   "source": [
    "df1.head()"
   ]
  },
  {
   "cell_type": "code",
   "execution_count": 120,
   "id": "910765f7-27ec-4e94-805d-9bfb57db27e4",
   "metadata": {},
   "outputs": [
    {
     "data": {
      "text/plain": [
       "0         False\n",
       "1         False\n",
       "2         False\n",
       "3         False\n",
       "4         False\n",
       "          ...  \n",
       "279851     True\n",
       "279852    False\n",
       "279853     True\n",
       "279854     True\n",
       "279855    False\n",
       "Length: 279856, dtype: bool"
      ]
     },
     "execution_count": 120,
     "metadata": {},
     "output_type": "execute_result"
    }
   ],
   "source": [
    "df1.duplicated()"
   ]
  },
  {
   "cell_type": "code",
   "execution_count": 121,
   "id": "9846dcc6-5bba-48b4-92b9-315bbfddd560",
   "metadata": {},
   "outputs": [],
   "source": [
    "# Remove duplicate rows\n",
    "df_cleaned = df1.drop_duplicates()"
   ]
  },
  {
   "cell_type": "code",
   "execution_count": 122,
   "id": "7312fbde-ee9a-4fbc-b826-9dddc57be16d",
   "metadata": {},
   "outputs": [],
   "source": [
    "# Display the cleaned DataFrame\n",
    "df1 = df_cleaned"
   ]
  },
  {
   "cell_type": "code",
   "execution_count": 123,
   "id": "766805bb-9a01-4338-88f4-3fb836489599",
   "metadata": {},
   "outputs": [
    {
     "data": {
      "text/plain": [
       "0         False\n",
       "1         False\n",
       "2         False\n",
       "3         False\n",
       "4         False\n",
       "          ...  \n",
       "279844    False\n",
       "279847    False\n",
       "279850    False\n",
       "279852    False\n",
       "279855    False\n",
       "Length: 179042, dtype: bool"
      ]
     },
     "execution_count": 123,
     "metadata": {},
     "output_type": "execute_result"
    }
   ],
   "source": [
    "df1.duplicated()"
   ]
  },
  {
   "cell_type": "code",
   "execution_count": 124,
   "id": "adfc8087-99d6-430d-9689-86babe41ed68",
   "metadata": {},
   "outputs": [
    {
     "data": {
      "text/plain": [
       "Index(['age', 'gender', 'income', 'credit_score', 'credit_history_length',\n",
       "       'number_existing_loans', 'loan_amount', 'loan_tenure', 'ltv_ratio',\n",
       "       'profile_score'],\n",
       "      dtype='object')"
      ]
     },
     "execution_count": 124,
     "metadata": {},
     "output_type": "execute_result"
    }
   ],
   "source": [
    "numerical_cols = df1.select_dtypes(\"number\").columns\n",
    "numerical_cols"
   ]
  },
  {
   "cell_type": "code",
   "execution_count": 125,
   "id": "684bead2-1b64-4e01-81a8-29fa741f9fb5",
   "metadata": {},
   "outputs": [
    {
     "data": {
      "text/plain": [
       "profile_score            1.000000\n",
       "credit_score             0.775678\n",
       "number_existing_loans    0.764236\n",
       "loan_tenure              0.491211\n",
       "income                   0.183031\n",
       "age                      0.104616\n",
       "loan_amount              0.069123\n",
       "credit_history_length    0.001421\n",
       "gender                  -0.000055\n",
       "ltv_ratio               -0.543069\n",
       "Name: profile_score, dtype: float64"
      ]
     },
     "execution_count": 125,
     "metadata": {},
     "output_type": "execute_result"
    }
   ],
   "source": [
    "\n",
    "# so we might consider profile_score has a feature that will determine loan eligibility\n",
    "df1.corr()[\"profile_score\"].sort_values(ascending= False)"
   ]
  },
  {
   "cell_type": "code",
   "execution_count": 126,
   "id": "44fb35f4-346a-4f20-a182-5f405881f21c",
   "metadata": {},
   "outputs": [
    {
     "name": "stdout",
     "output_type": "stream",
     "text": [
      "<class 'pandas.core.frame.DataFrame'>\n",
      "Index: 179042 entries, 0 to 279855\n",
      "Data columns (total 10 columns):\n",
      " #   Column                 Non-Null Count   Dtype  \n",
      "---  ------                 --------------   -----  \n",
      " 0   age                    179042 non-null  int64  \n",
      " 1   gender                 179042 non-null  int32  \n",
      " 2   income                 179042 non-null  int64  \n",
      " 3   credit_score           179042 non-null  int64  \n",
      " 4   credit_history_length  179042 non-null  int64  \n",
      " 5   number_existing_loans  179042 non-null  int64  \n",
      " 6   loan_amount            179042 non-null  int64  \n",
      " 7   loan_tenure            179042 non-null  int64  \n",
      " 8   ltv_ratio              179042 non-null  float64\n",
      " 9   profile_score          179042 non-null  int64  \n",
      "dtypes: float64(1), int32(1), int64(8)\n",
      "memory usage: 14.3 MB\n"
     ]
    }
   ],
   "source": [
    "df1.info()"
   ]
  },
  {
   "cell_type": "code",
   "execution_count": 127,
   "id": "60826cbb-180f-4a76-bd2f-41126835b482",
   "metadata": {},
   "outputs": [
    {
     "data": {
      "image/png": "[encoded data removed]",
      "text/plain": [
       "<Figure size 1600x1200 with 12 Axes>"
      ]
     },
     "metadata": {},
     "output_type": "display_data"
    }
   ],
   "source": [
    "# the dataframe.describe has indicated that there might be extreme values in those columns, we can still explore this further\n",
    "df1[numerical_cols].hist(figsize=(16, 12)); #this used to see the distribution"
   ]
  },
  {
   "cell_type": "code",
   "execution_count": 128,
   "id": "decb2ff2-e691-4d1f-85e3-f06156bc3a0f",
   "metadata": {},
   "outputs": [],
   "source": [
    "#Checking the SKEW COLUMS graphically \n",
    "skewed_cols = [\"profile_score\", \"credit_score\", \"number_existing_loans\", \"loan_tenure\", \"income\", \"age \"]"
   ]
  },
  {
   "cell_type": "code",
   "execution_count": 129,
   "id": "b98fafc9-851b-4466-9d92-b84b1427c6c2",
   "metadata": {},
   "outputs": [
    {
     "data": {
      "image/png": "[encoded data removed]",
      "text/plain": [
       "<Figure size 640x480 with 2 Axes>"
      ]
     },
     "metadata": {},
     "output_type": "display_data"
    }
   ],
   "source": [
    "#correlation with applicant .  \n",
    "sns.heatmap(data=df1.corr(), cmap=\"viridis\", annot=True);"
   ]
  },
  {
   "cell_type": "code",
   "execution_count": 130,
   "id": "ebd2370c-f14f-4918-87f2-6b2443c43fd1",
   "metadata": {},
   "outputs": [],
   "source": [
    "# Checking for outliers in the dataset (ALWAYS USe this code to resolve ur outlier issues)\n",
    "def outliers_func():\n",
    "        outliers_cols = []\n",
    "    \n",
    "        for col in df1.select_dtypes(\"number\"): \n",
    "            q1 = df1[col].quantile(.25)\n",
    "            q3 = df1[col].quantile(.75)\n",
    "            iqr = q3 - q1\n",
    "            lower_out= (df1[col] < (q1 - (1.5*iqr))).sum()\n",
    "            upper_out = (df1[col]  > (q3 + (1.5*iqr))).sum()\n",
    "\n",
    "            if lower_out > 0 or upper_out > 0 :\n",
    "                outliers_cols.append(col)\n",
    "\n",
    "        return outliers_cols"
   ]
  },
  {
   "cell_type": "code",
   "execution_count": 131,
   "id": "1892f81b-a84a-4686-8da6-3daa059a9664",
   "metadata": {},
   "outputs": [],
   "source": [
    "# calling the outliers function\n",
    "outlier_columns = outliers_func()"
   ]
  },
  {
   "cell_type": "code",
   "execution_count": 132,
   "id": "e09b4be2-76ee-443e-8d63-c493e15fad6e",
   "metadata": {},
   "outputs": [
    {
     "data": {
      "text/plain": [
       "['income', 'profile_score']"
      ]
     },
     "execution_count": 132,
     "metadata": {},
     "output_type": "execute_result"
    }
   ],
   "source": [
    "outlier_columns"
   ]
  },
  {
   "cell_type": "code",
   "execution_count": 133,
   "id": "7de2e77b-fbae-4f1b-8c5c-d0fb6a2c4a6f",
   "metadata": {},
   "outputs": [
    {
     "data": {
      "image/png": "[encoded data removed]",
      "text/plain": [
       "<Figure size 1600x1200 with 2 Axes>"
      ]
     },
     "metadata": {},
     "output_type": "display_data"
    }
   ],
   "source": [
    "# Visualizing the boxplot for the columns with outliers\n",
    "\n",
    "plt.figure(figsize=(16,12))\n",
    "for index, col in enumerate(outlier_columns):\n",
    "    plt.subplot(2,5, index+1)\n",
    "    sns.boxplot(df1[col])\n",
    "plt.tight_layout()\n",
    "plt.show()"
   ]
  },
  {
   "cell_type": "code",
   "execution_count": 134,
   "id": "ca320439-64f5-4a5c-aaab-8d64e9f994f8",
   "metadata": {},
   "outputs": [
    {
     "data": {
      "text/plain": [
       "array([ 77,  43,  90,  86,  92,  25,  58, 100,  87,  13,  95,  49,  82,\n",
       "        78,  75,  15,  98,  74,  88,  23,  83,  79,  96,  62,  85,  52,\n",
       "        46,  72,  17,  19,  94,  44,  29,  91,  68,  42,  56,  97,  37,\n",
       "        99,  47,  70,  54,  73,  32,  31,  69,  63,   0,  65,  33,  93,\n",
       "        10,  66,  60,  81,  35,  64,  34,  67,  24,  71,  61,  20,  41,\n",
       "        50,  48,  80,  16,   8,  30,  12,  55,  22,  59,  89,  51,  27,\n",
       "        45,  38,  39,  76,   2,  18,  57,  53,  40,  11,  84,  14,  28,\n",
       "         3,  26,   5,  36,   6,   9,  21,   4,   7,   1], dtype=int64)"
      ]
     },
     "execution_count": 134,
     "metadata": {},
     "output_type": "execute_result"
    }
   ],
   "source": [
    "df1.profile_score.unique()"
   ]
  },
  {
   "cell_type": "code",
   "execution_count": 135,
   "id": "38554ddf-86dc-4842-a234-277f7f0a5c95",
   "metadata": {},
   "outputs": [],
   "source": [
    "outlier_col = ['income']"
   ]
  },
  {
   "cell_type": "markdown",
   "id": "91375ffc-e472-4745-9889-97bed4845725",
   "metadata": {},
   "source": [
    "### Data preprocessing Stage"
   ]
  },
  {
   "cell_type": "code",
   "execution_count": 136,
   "id": "1345766b-7d7c-4aa5-ac10-75f426f32ec2",
   "metadata": {},
   "outputs": [],
   "source": [
    "# Transforming the skewed columns\n",
    "df1[outlier_col] = df1[outlier_col].apply(lambda x: np.log(x + 1))"
   ]
  },
  {
   "cell_type": "code",
   "execution_count": 137,
   "id": "910d655b-eedc-46b6-b349-0ddf7cf526b0",
   "metadata": {},
   "outputs": [
    {
     "data": {
      "text/plain": [
       "(179042, 10)"
      ]
     },
     "execution_count": 137,
     "metadata": {},
     "output_type": "execute_result"
    }
   ],
   "source": [
    "df1.shape"
   ]
  },
  {
   "cell_type": "code",
   "execution_count": 138,
   "id": "98285457-9f92-4d0e-a134-83a4f49b86c4",
   "metadata": {},
   "outputs": [
    {
     "data": {
      "image/png": "[encoded data removed]",
      "text/plain": [
       "<Figure size 800x600 with 1 Axes>"
      ]
     },
     "metadata": {},
     "output_type": "display_data"
    }
   ],
   "source": [
    "# The figure below shows that the columns have been transformed nicely\n",
    "df1[outlier_col].hist(figsize=(8, 6));"
   ]
  },
  {
   "cell_type": "code",
   "execution_count": 139,
   "id": "234b7a65-7674-49ad-89a8-997a36f01d15",
   "metadata": {},
   "outputs": [
    {
     "data": {
      "text/html": [
       "<div>\n",
       "<style scoped>\n",
       "    .dataframe tbody tr th:only-of-type {\n",
       "        vertical-align: middle;\n",
       "    }\n",
       "\n",
       "    .dataframe tbody tr th {\n",
       "        vertical-align: top;\n",
       "    }\n",
       "\n",
       "    .dataframe thead th {\n",
       "        text-align: right;\n",
       "    }\n",
       "</style>\n",
       "<table border=\"1\" class=\"dataframe\">\n",
       "  <thead>\n",
       "    <tr style=\"text-align: right;\">\n",
       "      <th></th>\n",
       "      <th>age</th>\n",
       "      <th>gender</th>\n",
       "      <th>income</th>\n",
       "      <th>credit_score</th>\n",
       "      <th>credit_history_length</th>\n",
       "      <th>number_existing_loans</th>\n",
       "      <th>loan_amount</th>\n",
       "      <th>loan_tenure</th>\n",
       "      <th>ltv_ratio</th>\n",
       "      <th>profile_score</th>\n",
       "    </tr>\n",
       "  </thead>\n",
       "  <tbody>\n",
       "    <tr>\n",
       "      <th>0</th>\n",
       "      <td>31</td>\n",
       "      <td>1</td>\n",
       "      <td>10.491302</td>\n",
       "      <td>604</td>\n",
       "      <td>487</td>\n",
       "      <td>5</td>\n",
       "      <td>109373</td>\n",
       "      <td>221</td>\n",
       "      <td>90.943430</td>\n",
       "      <td>77</td>\n",
       "    </tr>\n",
       "    <tr>\n",
       "      <th>1</th>\n",
       "      <td>25</td>\n",
       "      <td>1</td>\n",
       "      <td>10.819798</td>\n",
       "      <td>447</td>\n",
       "      <td>386</td>\n",
       "      <td>2</td>\n",
       "      <td>150000</td>\n",
       "      <td>89</td>\n",
       "      <td>91.135253</td>\n",
       "      <td>43</td>\n",
       "    </tr>\n",
       "    <tr>\n",
       "      <th>2</th>\n",
       "      <td>62</td>\n",
       "      <td>2</td>\n",
       "      <td>12.089544</td>\n",
       "      <td>850</td>\n",
       "      <td>503</td>\n",
       "      <td>10</td>\n",
       "      <td>69099</td>\n",
       "      <td>110</td>\n",
       "      <td>40.000000</td>\n",
       "      <td>90</td>\n",
       "    </tr>\n",
       "    <tr>\n",
       "      <th>3</th>\n",
       "      <td>69</td>\n",
       "      <td>0</td>\n",
       "      <td>10.736418</td>\n",
       "      <td>668</td>\n",
       "      <td>349</td>\n",
       "      <td>6</td>\n",
       "      <td>150000</td>\n",
       "      <td>148</td>\n",
       "      <td>87.393365</td>\n",
       "      <td>86</td>\n",
       "    </tr>\n",
       "    <tr>\n",
       "      <th>4</th>\n",
       "      <td>52</td>\n",
       "      <td>1</td>\n",
       "      <td>11.790565</td>\n",
       "      <td>601</td>\n",
       "      <td>553</td>\n",
       "      <td>5</td>\n",
       "      <td>150000</td>\n",
       "      <td>157</td>\n",
       "      <td>66.158757</td>\n",
       "      <td>90</td>\n",
       "    </tr>\n",
       "    <tr>\n",
       "      <th>...</th>\n",
       "      <td>...</td>\n",
       "      <td>...</td>\n",
       "      <td>...</td>\n",
       "      <td>...</td>\n",
       "      <td>...</td>\n",
       "      <td>...</td>\n",
       "      <td>...</td>\n",
       "      <td>...</td>\n",
       "      <td>...</td>\n",
       "      <td>...</td>\n",
       "    </tr>\n",
       "    <tr>\n",
       "      <th>279844</th>\n",
       "      <td>25</td>\n",
       "      <td>0</td>\n",
       "      <td>11.112463</td>\n",
       "      <td>412</td>\n",
       "      <td>503</td>\n",
       "      <td>2</td>\n",
       "      <td>150000</td>\n",
       "      <td>56</td>\n",
       "      <td>71.237639</td>\n",
       "      <td>55</td>\n",
       "    </tr>\n",
       "    <tr>\n",
       "      <th>279847</th>\n",
       "      <td>70</td>\n",
       "      <td>1</td>\n",
       "      <td>11.970357</td>\n",
       "      <td>621</td>\n",
       "      <td>277</td>\n",
       "      <td>5</td>\n",
       "      <td>94575</td>\n",
       "      <td>329</td>\n",
       "      <td>68.763160</td>\n",
       "      <td>95</td>\n",
       "    </tr>\n",
       "    <tr>\n",
       "      <th>279850</th>\n",
       "      <td>53</td>\n",
       "      <td>0</td>\n",
       "      <td>11.251574</td>\n",
       "      <td>467</td>\n",
       "      <td>268</td>\n",
       "      <td>3</td>\n",
       "      <td>115186</td>\n",
       "      <td>76</td>\n",
       "      <td>60.563183</td>\n",
       "      <td>71</td>\n",
       "    </tr>\n",
       "    <tr>\n",
       "      <th>279852</th>\n",
       "      <td>45</td>\n",
       "      <td>0</td>\n",
       "      <td>11.728045</td>\n",
       "      <td>850</td>\n",
       "      <td>476</td>\n",
       "      <td>10</td>\n",
       "      <td>80341</td>\n",
       "      <td>86</td>\n",
       "      <td>78.960607</td>\n",
       "      <td>91</td>\n",
       "    </tr>\n",
       "    <tr>\n",
       "      <th>279855</th>\n",
       "      <td>33</td>\n",
       "      <td>2</td>\n",
       "      <td>9.798183</td>\n",
       "      <td>474</td>\n",
       "      <td>374</td>\n",
       "      <td>3</td>\n",
       "      <td>51522</td>\n",
       "      <td>75</td>\n",
       "      <td>95.000000</td>\n",
       "      <td>59</td>\n",
       "    </tr>\n",
       "  </tbody>\n",
       "</table>\n",
       "<p>179042 rows × 10 columns</p>\n",
       "</div>"
      ],
      "text/plain": [
       "        age  gender     income  credit_score  credit_history_length  \\\n",
       "0        31       1  10.491302           604                    487   \n",
       "1        25       1  10.819798           447                    386   \n",
       "2        62       2  12.089544           850                    503   \n",
       "3        69       0  10.736418           668                    349   \n",
       "4        52       1  11.790565           601                    553   \n",
       "...     ...     ...        ...           ...                    ...   \n",
       "279844   25       0  11.112463           412                    503   \n",
       "279847   70       1  11.970357           621                    277   \n",
       "279850   53       0  11.251574           467                    268   \n",
       "279852   45       0  11.728045           850                    476   \n",
       "279855   33       2   9.798183           474                    374   \n",
       "\n",
       "        number_existing_loans  loan_amount  loan_tenure  ltv_ratio  \\\n",
       "0                           5       109373          221  90.943430   \n",
       "1                           2       150000           89  91.135253   \n",
       "2                          10        69099          110  40.000000   \n",
       "3                           6       150000          148  87.393365   \n",
       "4                           5       150000          157  66.158757   \n",
       "...                       ...          ...          ...        ...   \n",
       "279844                      2       150000           56  71.237639   \n",
       "279847                      5        94575          329  68.763160   \n",
       "279850                      3       115186           76  60.563183   \n",
       "279852                     10        80341           86  78.960607   \n",
       "279855                      3        51522           75  95.000000   \n",
       "\n",
       "        profile_score  \n",
       "0                  77  \n",
       "1                  43  \n",
       "2                  90  \n",
       "3                  86  \n",
       "4                  90  \n",
       "...               ...  \n",
       "279844             55  \n",
       "279847             95  \n",
       "279850             71  \n",
       "279852             91  \n",
       "279855             59  \n",
       "\n",
       "[179042 rows x 10 columns]"
      ]
     },
     "execution_count": 139,
     "metadata": {},
     "output_type": "execute_result"
    }
   ],
   "source": [
    "df1"
   ]
  },
  {
   "cell_type": "code",
   "execution_count": 140,
   "id": "2180367b-f1d6-4273-9eeb-0b125e2fe1ba",
   "metadata": {},
   "outputs": [],
   "source": [
    "def profile_score(col):\n",
    "    if col >= 50:\n",
    "        return 1\n",
    "    else:\n",
    "        return 0"
   ]
  },
  {
   "cell_type": "code",
   "execution_count": 141,
   "id": "8636b769-3dd1-4bf8-ada2-d41a8107aaa2",
   "metadata": {},
   "outputs": [
    {
     "data": {
      "text/plain": [
       "0         1\n",
       "1         0\n",
       "2         1\n",
       "3         1\n",
       "4         1\n",
       "         ..\n",
       "279844    1\n",
       "279847    1\n",
       "279850    1\n",
       "279852    1\n",
       "279855    1\n",
       "Name: profile_score, Length: 179042, dtype: int64"
      ]
     },
     "execution_count": 141,
     "metadata": {},
     "output_type": "execute_result"
    }
   ],
   "source": [
    "df1.profile_score.apply(profile_score)"
   ]
  },
  {
   "cell_type": "code",
   "execution_count": 142,
   "id": "601e243e-6538-48a1-a0ea-28cbe421b998",
   "metadata": {},
   "outputs": [],
   "source": [
    "df1[\"Eligibilty_score\"] = df1.profile_score.apply(profile_score)"
   ]
  },
  {
   "cell_type": "code",
   "execution_count": 143,
   "id": "d7e756d0-8b70-4141-be9e-6b95042b5b5a",
   "metadata": {},
   "outputs": [
    {
     "data": {
      "text/html": [
       "<div>\n",
       "<style scoped>\n",
       "    .dataframe tbody tr th:only-of-type {\n",
       "        vertical-align: middle;\n",
       "    }\n",
       "\n",
       "    .dataframe tbody tr th {\n",
       "        vertical-align: top;\n",
       "    }\n",
       "\n",
       "    .dataframe thead th {\n",
       "        text-align: right;\n",
       "    }\n",
       "</style>\n",
       "<table border=\"1\" class=\"dataframe\">\n",
       "  <thead>\n",
       "    <tr style=\"text-align: right;\">\n",
       "      <th></th>\n",
       "      <th>age</th>\n",
       "      <th>gender</th>\n",
       "      <th>income</th>\n",
       "      <th>credit_score</th>\n",
       "      <th>credit_history_length</th>\n",
       "      <th>number_existing_loans</th>\n",
       "      <th>loan_amount</th>\n",
       "      <th>loan_tenure</th>\n",
       "      <th>ltv_ratio</th>\n",
       "      <th>profile_score</th>\n",
       "      <th>Eligibilty_score</th>\n",
       "    </tr>\n",
       "  </thead>\n",
       "  <tbody>\n",
       "    <tr>\n",
       "      <th>0</th>\n",
       "      <td>31</td>\n",
       "      <td>1</td>\n",
       "      <td>10.491302</td>\n",
       "      <td>604</td>\n",
       "      <td>487</td>\n",
       "      <td>5</td>\n",
       "      <td>109373</td>\n",
       "      <td>221</td>\n",
       "      <td>90.943430</td>\n",
       "      <td>77</td>\n",
       "      <td>1</td>\n",
       "    </tr>\n",
       "    <tr>\n",
       "      <th>1</th>\n",
       "      <td>25</td>\n",
       "      <td>1</td>\n",
       "      <td>10.819798</td>\n",
       "      <td>447</td>\n",
       "      <td>386</td>\n",
       "      <td>2</td>\n",
       "      <td>150000</td>\n",
       "      <td>89</td>\n",
       "      <td>91.135253</td>\n",
       "      <td>43</td>\n",
       "      <td>0</td>\n",
       "    </tr>\n",
       "    <tr>\n",
       "      <th>2</th>\n",
       "      <td>62</td>\n",
       "      <td>2</td>\n",
       "      <td>12.089544</td>\n",
       "      <td>850</td>\n",
       "      <td>503</td>\n",
       "      <td>10</td>\n",
       "      <td>69099</td>\n",
       "      <td>110</td>\n",
       "      <td>40.000000</td>\n",
       "      <td>90</td>\n",
       "      <td>1</td>\n",
       "    </tr>\n",
       "    <tr>\n",
       "      <th>3</th>\n",
       "      <td>69</td>\n",
       "      <td>0</td>\n",
       "      <td>10.736418</td>\n",
       "      <td>668</td>\n",
       "      <td>349</td>\n",
       "      <td>6</td>\n",
       "      <td>150000</td>\n",
       "      <td>148</td>\n",
       "      <td>87.393365</td>\n",
       "      <td>86</td>\n",
       "      <td>1</td>\n",
       "    </tr>\n",
       "    <tr>\n",
       "      <th>4</th>\n",
       "      <td>52</td>\n",
       "      <td>1</td>\n",
       "      <td>11.790565</td>\n",
       "      <td>601</td>\n",
       "      <td>553</td>\n",
       "      <td>5</td>\n",
       "      <td>150000</td>\n",
       "      <td>157</td>\n",
       "      <td>66.158757</td>\n",
       "      <td>90</td>\n",
       "      <td>1</td>\n",
       "    </tr>\n",
       "    <tr>\n",
       "      <th>...</th>\n",
       "      <td>...</td>\n",
       "      <td>...</td>\n",
       "      <td>...</td>\n",
       "      <td>...</td>\n",
       "      <td>...</td>\n",
       "      <td>...</td>\n",
       "      <td>...</td>\n",
       "      <td>...</td>\n",
       "      <td>...</td>\n",
       "      <td>...</td>\n",
       "      <td>...</td>\n",
       "    </tr>\n",
       "    <tr>\n",
       "      <th>279844</th>\n",
       "      <td>25</td>\n",
       "      <td>0</td>\n",
       "      <td>11.112463</td>\n",
       "      <td>412</td>\n",
       "      <td>503</td>\n",
       "      <td>2</td>\n",
       "      <td>150000</td>\n",
       "      <td>56</td>\n",
       "      <td>71.237639</td>\n",
       "      <td>55</td>\n",
       "      <td>1</td>\n",
       "    </tr>\n",
       "    <tr>\n",
       "      <th>279847</th>\n",
       "      <td>70</td>\n",
       "      <td>1</td>\n",
       "      <td>11.970357</td>\n",
       "      <td>621</td>\n",
       "      <td>277</td>\n",
       "      <td>5</td>\n",
       "      <td>94575</td>\n",
       "      <td>329</td>\n",
       "      <td>68.763160</td>\n",
       "      <td>95</td>\n",
       "      <td>1</td>\n",
       "    </tr>\n",
       "    <tr>\n",
       "      <th>279850</th>\n",
       "      <td>53</td>\n",
       "      <td>0</td>\n",
       "      <td>11.251574</td>\n",
       "      <td>467</td>\n",
       "      <td>268</td>\n",
       "      <td>3</td>\n",
       "      <td>115186</td>\n",
       "      <td>76</td>\n",
       "      <td>60.563183</td>\n",
       "      <td>71</td>\n",
       "      <td>1</td>\n",
       "    </tr>\n",
       "    <tr>\n",
       "      <th>279852</th>\n",
       "      <td>45</td>\n",
       "      <td>0</td>\n",
       "      <td>11.728045</td>\n",
       "      <td>850</td>\n",
       "      <td>476</td>\n",
       "      <td>10</td>\n",
       "      <td>80341</td>\n",
       "      <td>86</td>\n",
       "      <td>78.960607</td>\n",
       "      <td>91</td>\n",
       "      <td>1</td>\n",
       "    </tr>\n",
       "    <tr>\n",
       "      <th>279855</th>\n",
       "      <td>33</td>\n",
       "      <td>2</td>\n",
       "      <td>9.798183</td>\n",
       "      <td>474</td>\n",
       "      <td>374</td>\n",
       "      <td>3</td>\n",
       "      <td>51522</td>\n",
       "      <td>75</td>\n",
       "      <td>95.000000</td>\n",
       "      <td>59</td>\n",
       "      <td>1</td>\n",
       "    </tr>\n",
       "  </tbody>\n",
       "</table>\n",
       "<p>179042 rows × 11 columns</p>\n",
       "</div>"
      ],
      "text/plain": [
       "        age  gender     income  credit_score  credit_history_length  \\\n",
       "0        31       1  10.491302           604                    487   \n",
       "1        25       1  10.819798           447                    386   \n",
       "2        62       2  12.089544           850                    503   \n",
       "3        69       0  10.736418           668                    349   \n",
       "4        52       1  11.790565           601                    553   \n",
       "...     ...     ...        ...           ...                    ...   \n",
       "279844   25       0  11.112463           412                    503   \n",
       "279847   70       1  11.970357           621                    277   \n",
       "279850   53       0  11.251574           467                    268   \n",
       "279852   45       0  11.728045           850                    476   \n",
       "279855   33       2   9.798183           474                    374   \n",
       "\n",
       "        number_existing_loans  loan_amount  loan_tenure  ltv_ratio  \\\n",
       "0                           5       109373          221  90.943430   \n",
       "1                           2       150000           89  91.135253   \n",
       "2                          10        69099          110  40.000000   \n",
       "3                           6       150000          148  87.393365   \n",
       "4                           5       150000          157  66.158757   \n",
       "...                       ...          ...          ...        ...   \n",
       "279844                      2       150000           56  71.237639   \n",
       "279847                      5        94575          329  68.763160   \n",
       "279850                      3       115186           76  60.563183   \n",
       "279852                     10        80341           86  78.960607   \n",
       "279855                      3        51522           75  95.000000   \n",
       "\n",
       "        profile_score  Eligibilty_score  \n",
       "0                  77                 1  \n",
       "1                  43                 0  \n",
       "2                  90                 1  \n",
       "3                  86                 1  \n",
       "4                  90                 1  \n",
       "...               ...               ...  \n",
       "279844             55                 1  \n",
       "279847             95                 1  \n",
       "279850             71                 1  \n",
       "279852             91                 1  \n",
       "279855             59                 1  \n",
       "\n",
       "[179042 rows x 11 columns]"
      ]
     },
     "execution_count": 143,
     "metadata": {},
     "output_type": "execute_result"
    }
   ],
   "source": [
    "df1"
   ]
  },
  {
   "cell_type": "code",
   "execution_count": 144,
   "id": "1a413c12-0b7b-407f-9e9e-7c95fd3e557f",
   "metadata": {},
   "outputs": [
    {
     "data": {
      "text/plain": [
       "Eligibilty_score\n",
       "1    150076\n",
       "0     28966\n",
       "Name: count, dtype: int64"
      ]
     },
     "execution_count": 144,
     "metadata": {},
     "output_type": "execute_result"
    }
   ],
   "source": [
    "#This show the number of client Eligible for loan application\n",
    "df1.Eligibilty_score.value_counts()"
   ]
  },
  {
   "cell_type": "code",
   "execution_count": 146,
   "id": "e43d0a0b-bf0a-472f-adb3-2ff92079567d",
   "metadata": {},
   "outputs": [
    {
     "data": {
      "text/html": [
       "<div>\n",
       "<style scoped>\n",
       "    .dataframe tbody tr th:only-of-type {\n",
       "        vertical-align: middle;\n",
       "    }\n",
       "\n",
       "    .dataframe tbody tr th {\n",
       "        vertical-align: top;\n",
       "    }\n",
       "\n",
       "    .dataframe thead th {\n",
       "        text-align: right;\n",
       "    }\n",
       "</style>\n",
       "<table border=\"1\" class=\"dataframe\">\n",
       "  <thead>\n",
       "    <tr style=\"text-align: right;\">\n",
       "      <th></th>\n",
       "      <th>age</th>\n",
       "      <th>gender</th>\n",
       "      <th>income</th>\n",
       "      <th>credit_score</th>\n",
       "      <th>credit_history_length</th>\n",
       "      <th>number_existing_loans</th>\n",
       "      <th>loan_amount</th>\n",
       "      <th>loan_tenure</th>\n",
       "      <th>ltv_ratio</th>\n",
       "      <th>profile_score</th>\n",
       "      <th>Eligibilty_score</th>\n",
       "    </tr>\n",
       "  </thead>\n",
       "  <tbody>\n",
       "    <tr>\n",
       "      <th>0</th>\n",
       "      <td>31</td>\n",
       "      <td>1</td>\n",
       "      <td>10.491302</td>\n",
       "      <td>604</td>\n",
       "      <td>487</td>\n",
       "      <td>5</td>\n",
       "      <td>109373</td>\n",
       "      <td>221</td>\n",
       "      <td>90.943430</td>\n",
       "      <td>77</td>\n",
       "      <td>1</td>\n",
       "    </tr>\n",
       "    <tr>\n",
       "      <th>1</th>\n",
       "      <td>25</td>\n",
       "      <td>1</td>\n",
       "      <td>10.819798</td>\n",
       "      <td>447</td>\n",
       "      <td>386</td>\n",
       "      <td>2</td>\n",
       "      <td>150000</td>\n",
       "      <td>89</td>\n",
       "      <td>91.135253</td>\n",
       "      <td>43</td>\n",
       "      <td>0</td>\n",
       "    </tr>\n",
       "    <tr>\n",
       "      <th>2</th>\n",
       "      <td>62</td>\n",
       "      <td>2</td>\n",
       "      <td>12.089544</td>\n",
       "      <td>850</td>\n",
       "      <td>503</td>\n",
       "      <td>10</td>\n",
       "      <td>69099</td>\n",
       "      <td>110</td>\n",
       "      <td>40.000000</td>\n",
       "      <td>90</td>\n",
       "      <td>1</td>\n",
       "    </tr>\n",
       "    <tr>\n",
       "      <th>3</th>\n",
       "      <td>69</td>\n",
       "      <td>0</td>\n",
       "      <td>10.736418</td>\n",
       "      <td>668</td>\n",
       "      <td>349</td>\n",
       "      <td>6</td>\n",
       "      <td>150000</td>\n",
       "      <td>148</td>\n",
       "      <td>87.393365</td>\n",
       "      <td>86</td>\n",
       "      <td>1</td>\n",
       "    </tr>\n",
       "    <tr>\n",
       "      <th>4</th>\n",
       "      <td>52</td>\n",
       "      <td>1</td>\n",
       "      <td>11.790565</td>\n",
       "      <td>601</td>\n",
       "      <td>553</td>\n",
       "      <td>5</td>\n",
       "      <td>150000</td>\n",
       "      <td>157</td>\n",
       "      <td>66.158757</td>\n",
       "      <td>90</td>\n",
       "      <td>1</td>\n",
       "    </tr>\n",
       "    <tr>\n",
       "      <th>...</th>\n",
       "      <td>...</td>\n",
       "      <td>...</td>\n",
       "      <td>...</td>\n",
       "      <td>...</td>\n",
       "      <td>...</td>\n",
       "      <td>...</td>\n",
       "      <td>...</td>\n",
       "      <td>...</td>\n",
       "      <td>...</td>\n",
       "      <td>...</td>\n",
       "      <td>...</td>\n",
       "    </tr>\n",
       "    <tr>\n",
       "      <th>279844</th>\n",
       "      <td>25</td>\n",
       "      <td>0</td>\n",
       "      <td>11.112463</td>\n",
       "      <td>412</td>\n",
       "      <td>503</td>\n",
       "      <td>2</td>\n",
       "      <td>150000</td>\n",
       "      <td>56</td>\n",
       "      <td>71.237639</td>\n",
       "      <td>55</td>\n",
       "      <td>1</td>\n",
       "    </tr>\n",
       "    <tr>\n",
       "      <th>279847</th>\n",
       "      <td>70</td>\n",
       "      <td>1</td>\n",
       "      <td>11.970357</td>\n",
       "      <td>621</td>\n",
       "      <td>277</td>\n",
       "      <td>5</td>\n",
       "      <td>94575</td>\n",
       "      <td>329</td>\n",
       "      <td>68.763160</td>\n",
       "      <td>95</td>\n",
       "      <td>1</td>\n",
       "    </tr>\n",
       "    <tr>\n",
       "      <th>279850</th>\n",
       "      <td>53</td>\n",
       "      <td>0</td>\n",
       "      <td>11.251574</td>\n",
       "      <td>467</td>\n",
       "      <td>268</td>\n",
       "      <td>3</td>\n",
       "      <td>115186</td>\n",
       "      <td>76</td>\n",
       "      <td>60.563183</td>\n",
       "      <td>71</td>\n",
       "      <td>1</td>\n",
       "    </tr>\n",
       "    <tr>\n",
       "      <th>279852</th>\n",
       "      <td>45</td>\n",
       "      <td>0</td>\n",
       "      <td>11.728045</td>\n",
       "      <td>850</td>\n",
       "      <td>476</td>\n",
       "      <td>10</td>\n",
       "      <td>80341</td>\n",
       "      <td>86</td>\n",
       "      <td>78.960607</td>\n",
       "      <td>91</td>\n",
       "      <td>1</td>\n",
       "    </tr>\n",
       "    <tr>\n",
       "      <th>279855</th>\n",
       "      <td>33</td>\n",
       "      <td>2</td>\n",
       "      <td>9.798183</td>\n",
       "      <td>474</td>\n",
       "      <td>374</td>\n",
       "      <td>3</td>\n",
       "      <td>51522</td>\n",
       "      <td>75</td>\n",
       "      <td>95.000000</td>\n",
       "      <td>59</td>\n",
       "      <td>1</td>\n",
       "    </tr>\n",
       "  </tbody>\n",
       "</table>\n",
       "<p>179042 rows × 11 columns</p>\n",
       "</div>"
      ],
      "text/plain": [
       "        age  gender     income  credit_score  credit_history_length  \\\n",
       "0        31       1  10.491302           604                    487   \n",
       "1        25       1  10.819798           447                    386   \n",
       "2        62       2  12.089544           850                    503   \n",
       "3        69       0  10.736418           668                    349   \n",
       "4        52       1  11.790565           601                    553   \n",
       "...     ...     ...        ...           ...                    ...   \n",
       "279844   25       0  11.112463           412                    503   \n",
       "279847   70       1  11.970357           621                    277   \n",
       "279850   53       0  11.251574           467                    268   \n",
       "279852   45       0  11.728045           850                    476   \n",
       "279855   33       2   9.798183           474                    374   \n",
       "\n",
       "        number_existing_loans  loan_amount  loan_tenure  ltv_ratio  \\\n",
       "0                           5       109373          221  90.943430   \n",
       "1                           2       150000           89  91.135253   \n",
       "2                          10        69099          110  40.000000   \n",
       "3                           6       150000          148  87.393365   \n",
       "4                           5       150000          157  66.158757   \n",
       "...                       ...          ...          ...        ...   \n",
       "279844                      2       150000           56  71.237639   \n",
       "279847                      5        94575          329  68.763160   \n",
       "279850                      3       115186           76  60.563183   \n",
       "279852                     10        80341           86  78.960607   \n",
       "279855                      3        51522           75  95.000000   \n",
       "\n",
       "        profile_score  Eligibilty_score  \n",
       "0                  77                 1  \n",
       "1                  43                 0  \n",
       "2                  90                 1  \n",
       "3                  86                 1  \n",
       "4                  90                 1  \n",
       "...               ...               ...  \n",
       "279844             55                 1  \n",
       "279847             95                 1  \n",
       "279850             71                 1  \n",
       "279852             91                 1  \n",
       "279855             59                 1  \n",
       "\n",
       "[179042 rows x 11 columns]"
      ]
     },
     "execution_count": 146,
     "metadata": {},
     "output_type": "execute_result"
    }
   ],
   "source": [
    "df1"
   ]
  },
  {
   "cell_type": "code",
   "execution_count": 147,
   "id": "bc3e4b4a-dd8e-45bb-a1f4-b440f499f64f",
   "metadata": {},
   "outputs": [
    {
     "data": {
      "image/png": "[encoded data removed]",
      "text/plain": [
       "<Figure size 800x600 with 1 Axes>"
      ]
     },
     "metadata": {},
     "output_type": "display_data"
    }
   ],
   "source": [
    "# Data for the pie chart\n",
    "labels = ['Eligible (1)', 'Not Eligible (0)']\n",
    "sizes = [150076, 28966]\n",
    "colors = ['#66c2a5', '#fc8d62']  # Custom colors for the pie chart\n",
    "explode = (0.1, 0)  # Explode the first slice (Eligible)\n",
    "\n",
    "# Create the pie chart\n",
    "plt.figure(figsize=(8, 6))\n",
    "plt.pie(sizes, explode=explode, labels=labels, colors=colors, autopct='%1.1f%%',\n",
    "        shadow=True, startangle=90)\n",
    "\n",
    "# Equal aspect ratio ensures that pie chart is circular\n",
    "plt.axis('equal')  \n",
    "plt.title('Eligibility Score Distribution')\n",
    "plt.show()"
   ]
  },
  {
   "cell_type": "code",
   "execution_count": 148,
   "id": "d80404e7-1e84-45da-bb29-0c0a159a1eb1",
   "metadata": {},
   "outputs": [
    {
     "data": {
      "text/html": [
       "<div>\n",
       "<style scoped>\n",
       "    .dataframe tbody tr th:only-of-type {\n",
       "        vertical-align: middle;\n",
       "    }\n",
       "\n",
       "    .dataframe tbody tr th {\n",
       "        vertical-align: top;\n",
       "    }\n",
       "\n",
       "    .dataframe thead th {\n",
       "        text-align: right;\n",
       "    }\n",
       "</style>\n",
       "<table border=\"1\" class=\"dataframe\">\n",
       "  <thead>\n",
       "    <tr style=\"text-align: right;\">\n",
       "      <th></th>\n",
       "      <th>age</th>\n",
       "      <th>gender</th>\n",
       "      <th>income</th>\n",
       "      <th>credit_score</th>\n",
       "      <th>credit_history_length</th>\n",
       "      <th>number_existing_loans</th>\n",
       "      <th>loan_amount</th>\n",
       "      <th>loan_tenure</th>\n",
       "      <th>ltv_ratio</th>\n",
       "      <th>profile_score</th>\n",
       "      <th>Eligibilty_score</th>\n",
       "    </tr>\n",
       "  </thead>\n",
       "  <tbody>\n",
       "    <tr>\n",
       "      <th>0</th>\n",
       "      <td>31</td>\n",
       "      <td>1</td>\n",
       "      <td>10.491302</td>\n",
       "      <td>604</td>\n",
       "      <td>487</td>\n",
       "      <td>5</td>\n",
       "      <td>109373</td>\n",
       "      <td>221</td>\n",
       "      <td>90.943430</td>\n",
       "      <td>77</td>\n",
       "      <td>1</td>\n",
       "    </tr>\n",
       "    <tr>\n",
       "      <th>1</th>\n",
       "      <td>25</td>\n",
       "      <td>1</td>\n",
       "      <td>10.819798</td>\n",
       "      <td>447</td>\n",
       "      <td>386</td>\n",
       "      <td>2</td>\n",
       "      <td>150000</td>\n",
       "      <td>89</td>\n",
       "      <td>91.135253</td>\n",
       "      <td>43</td>\n",
       "      <td>0</td>\n",
       "    </tr>\n",
       "    <tr>\n",
       "      <th>2</th>\n",
       "      <td>62</td>\n",
       "      <td>2</td>\n",
       "      <td>12.089544</td>\n",
       "      <td>850</td>\n",
       "      <td>503</td>\n",
       "      <td>10</td>\n",
       "      <td>69099</td>\n",
       "      <td>110</td>\n",
       "      <td>40.000000</td>\n",
       "      <td>90</td>\n",
       "      <td>1</td>\n",
       "    </tr>\n",
       "    <tr>\n",
       "      <th>3</th>\n",
       "      <td>69</td>\n",
       "      <td>0</td>\n",
       "      <td>10.736418</td>\n",
       "      <td>668</td>\n",
       "      <td>349</td>\n",
       "      <td>6</td>\n",
       "      <td>150000</td>\n",
       "      <td>148</td>\n",
       "      <td>87.393365</td>\n",
       "      <td>86</td>\n",
       "      <td>1</td>\n",
       "    </tr>\n",
       "    <tr>\n",
       "      <th>4</th>\n",
       "      <td>52</td>\n",
       "      <td>1</td>\n",
       "      <td>11.790565</td>\n",
       "      <td>601</td>\n",
       "      <td>553</td>\n",
       "      <td>5</td>\n",
       "      <td>150000</td>\n",
       "      <td>157</td>\n",
       "      <td>66.158757</td>\n",
       "      <td>90</td>\n",
       "      <td>1</td>\n",
       "    </tr>\n",
       "    <tr>\n",
       "      <th>...</th>\n",
       "      <td>...</td>\n",
       "      <td>...</td>\n",
       "      <td>...</td>\n",
       "      <td>...</td>\n",
       "      <td>...</td>\n",
       "      <td>...</td>\n",
       "      <td>...</td>\n",
       "      <td>...</td>\n",
       "      <td>...</td>\n",
       "      <td>...</td>\n",
       "      <td>...</td>\n",
       "    </tr>\n",
       "    <tr>\n",
       "      <th>279844</th>\n",
       "      <td>25</td>\n",
       "      <td>0</td>\n",
       "      <td>11.112463</td>\n",
       "      <td>412</td>\n",
       "      <td>503</td>\n",
       "      <td>2</td>\n",
       "      <td>150000</td>\n",
       "      <td>56</td>\n",
       "      <td>71.237639</td>\n",
       "      <td>55</td>\n",
       "      <td>1</td>\n",
       "    </tr>\n",
       "    <tr>\n",
       "      <th>279847</th>\n",
       "      <td>70</td>\n",
       "      <td>1</td>\n",
       "      <td>11.970357</td>\n",
       "      <td>621</td>\n",
       "      <td>277</td>\n",
       "      <td>5</td>\n",
       "      <td>94575</td>\n",
       "      <td>329</td>\n",
       "      <td>68.763160</td>\n",
       "      <td>95</td>\n",
       "      <td>1</td>\n",
       "    </tr>\n",
       "    <tr>\n",
       "      <th>279850</th>\n",
       "      <td>53</td>\n",
       "      <td>0</td>\n",
       "      <td>11.251574</td>\n",
       "      <td>467</td>\n",
       "      <td>268</td>\n",
       "      <td>3</td>\n",
       "      <td>115186</td>\n",
       "      <td>76</td>\n",
       "      <td>60.563183</td>\n",
       "      <td>71</td>\n",
       "      <td>1</td>\n",
       "    </tr>\n",
       "    <tr>\n",
       "      <th>279852</th>\n",
       "      <td>45</td>\n",
       "      <td>0</td>\n",
       "      <td>11.728045</td>\n",
       "      <td>850</td>\n",
       "      <td>476</td>\n",
       "      <td>10</td>\n",
       "      <td>80341</td>\n",
       "      <td>86</td>\n",
       "      <td>78.960607</td>\n",
       "      <td>91</td>\n",
       "      <td>1</td>\n",
       "    </tr>\n",
       "    <tr>\n",
       "      <th>279855</th>\n",
       "      <td>33</td>\n",
       "      <td>2</td>\n",
       "      <td>9.798183</td>\n",
       "      <td>474</td>\n",
       "      <td>374</td>\n",
       "      <td>3</td>\n",
       "      <td>51522</td>\n",
       "      <td>75</td>\n",
       "      <td>95.000000</td>\n",
       "      <td>59</td>\n",
       "      <td>1</td>\n",
       "    </tr>\n",
       "  </tbody>\n",
       "</table>\n",
       "<p>179042 rows × 11 columns</p>\n",
       "</div>"
      ],
      "text/plain": [
       "        age  gender     income  credit_score  credit_history_length  \\\n",
       "0        31       1  10.491302           604                    487   \n",
       "1        25       1  10.819798           447                    386   \n",
       "2        62       2  12.089544           850                    503   \n",
       "3        69       0  10.736418           668                    349   \n",
       "4        52       1  11.790565           601                    553   \n",
       "...     ...     ...        ...           ...                    ...   \n",
       "279844   25       0  11.112463           412                    503   \n",
       "279847   70       1  11.970357           621                    277   \n",
       "279850   53       0  11.251574           467                    268   \n",
       "279852   45       0  11.728045           850                    476   \n",
       "279855   33       2   9.798183           474                    374   \n",
       "\n",
       "        number_existing_loans  loan_amount  loan_tenure  ltv_ratio  \\\n",
       "0                           5       109373          221  90.943430   \n",
       "1                           2       150000           89  91.135253   \n",
       "2                          10        69099          110  40.000000   \n",
       "3                           6       150000          148  87.393365   \n",
       "4                           5       150000          157  66.158757   \n",
       "...                       ...          ...          ...        ...   \n",
       "279844                      2       150000           56  71.237639   \n",
       "279847                      5        94575          329  68.763160   \n",
       "279850                      3       115186           76  60.563183   \n",
       "279852                     10        80341           86  78.960607   \n",
       "279855                      3        51522           75  95.000000   \n",
       "\n",
       "        profile_score  Eligibilty_score  \n",
       "0                  77                 1  \n",
       "1                  43                 0  \n",
       "2                  90                 1  \n",
       "3                  86                 1  \n",
       "4                  90                 1  \n",
       "...               ...               ...  \n",
       "279844             55                 1  \n",
       "279847             95                 1  \n",
       "279850             71                 1  \n",
       "279852             91                 1  \n",
       "279855             59                 1  \n",
       "\n",
       "[179042 rows x 11 columns]"
      ]
     },
     "execution_count": 148,
     "metadata": {},
     "output_type": "execute_result"
    }
   ],
   "source": [
    "df1"
   ]
  },
  {
   "cell_type": "code",
   "execution_count": 149,
   "id": "e666f5a0-f1b7-4696-a1a4-0fd94b5d9d9f",
   "metadata": {},
   "outputs": [
    {
     "data": {
      "text/plain": [
       "(179042, 11)"
      ]
     },
     "execution_count": 149,
     "metadata": {},
     "output_type": "execute_result"
    }
   ],
   "source": [
    "df1.shape"
   ]
  },
  {
   "cell_type": "markdown",
   "id": "7e479386-2b8c-4fe4-918b-18e89f89223b",
   "metadata": {},
   "source": [
    "## Modelling"
   ]
  },
  {
   "cell_type": "code",
   "execution_count": 150,
   "id": "d6ebfc60-42f2-4f74-a825-0f99e9b9d7d6",
   "metadata": {},
   "outputs": [],
   "source": [
    "from sklearn.linear_model import LogisticRegression\n",
    "from sklearn.tree import DecisionTreeClassifier\n",
    "from sklearn.ensemble import RandomForestClassifier\n",
    "from sklearn.svm import SVC\n",
    "from sklearn.model_selection import cross_val_score\n",
    "from sklearn.model_selection import cross_val_predict\n",
    "from sklearn.metrics import f1_score\n",
    "from sklearn.metrics import fbeta_score\n",
    "from sklearn.metrics import accuracy_score\n",
    "from sklearn.metrics import precision_score\n",
    "from sklearn.model_selection import train_test_split"
   ]
  },
  {
   "cell_type": "code",
   "execution_count": 151,
   "id": "175a4547-78ba-4399-896f-5b73cd124c75",
   "metadata": {},
   "outputs": [],
   "source": [
    "# LogisticRegression?"
   ]
  },
  {
   "cell_type": "code",
   "execution_count": 152,
   "id": "23f1c573-d949-4d15-9a1c-8cdce80b89cb",
   "metadata": {},
   "outputs": [
    {
     "data": {
      "text/html": [
       "<div>\n",
       "<style scoped>\n",
       "    .dataframe tbody tr th:only-of-type {\n",
       "        vertical-align: middle;\n",
       "    }\n",
       "\n",
       "    .dataframe tbody tr th {\n",
       "        vertical-align: top;\n",
       "    }\n",
       "\n",
       "    .dataframe thead th {\n",
       "        text-align: right;\n",
       "    }\n",
       "</style>\n",
       "<table border=\"1\" class=\"dataframe\">\n",
       "  <thead>\n",
       "    <tr style=\"text-align: right;\">\n",
       "      <th></th>\n",
       "      <th>age</th>\n",
       "      <th>gender</th>\n",
       "      <th>income</th>\n",
       "      <th>credit_score</th>\n",
       "      <th>credit_history_length</th>\n",
       "      <th>number_existing_loans</th>\n",
       "      <th>loan_amount</th>\n",
       "      <th>loan_tenure</th>\n",
       "      <th>ltv_ratio</th>\n",
       "      <th>profile_score</th>\n",
       "      <th>Eligibilty_score</th>\n",
       "    </tr>\n",
       "  </thead>\n",
       "  <tbody>\n",
       "    <tr>\n",
       "      <th>0</th>\n",
       "      <td>31</td>\n",
       "      <td>1</td>\n",
       "      <td>10.491302</td>\n",
       "      <td>604</td>\n",
       "      <td>487</td>\n",
       "      <td>5</td>\n",
       "      <td>109373</td>\n",
       "      <td>221</td>\n",
       "      <td>90.943430</td>\n",
       "      <td>77</td>\n",
       "      <td>1</td>\n",
       "    </tr>\n",
       "    <tr>\n",
       "      <th>1</th>\n",
       "      <td>25</td>\n",
       "      <td>1</td>\n",
       "      <td>10.819798</td>\n",
       "      <td>447</td>\n",
       "      <td>386</td>\n",
       "      <td>2</td>\n",
       "      <td>150000</td>\n",
       "      <td>89</td>\n",
       "      <td>91.135253</td>\n",
       "      <td>43</td>\n",
       "      <td>0</td>\n",
       "    </tr>\n",
       "    <tr>\n",
       "      <th>2</th>\n",
       "      <td>62</td>\n",
       "      <td>2</td>\n",
       "      <td>12.089544</td>\n",
       "      <td>850</td>\n",
       "      <td>503</td>\n",
       "      <td>10</td>\n",
       "      <td>69099</td>\n",
       "      <td>110</td>\n",
       "      <td>40.000000</td>\n",
       "      <td>90</td>\n",
       "      <td>1</td>\n",
       "    </tr>\n",
       "    <tr>\n",
       "      <th>3</th>\n",
       "      <td>69</td>\n",
       "      <td>0</td>\n",
       "      <td>10.736418</td>\n",
       "      <td>668</td>\n",
       "      <td>349</td>\n",
       "      <td>6</td>\n",
       "      <td>150000</td>\n",
       "      <td>148</td>\n",
       "      <td>87.393365</td>\n",
       "      <td>86</td>\n",
       "      <td>1</td>\n",
       "    </tr>\n",
       "    <tr>\n",
       "      <th>4</th>\n",
       "      <td>52</td>\n",
       "      <td>1</td>\n",
       "      <td>11.790565</td>\n",
       "      <td>601</td>\n",
       "      <td>553</td>\n",
       "      <td>5</td>\n",
       "      <td>150000</td>\n",
       "      <td>157</td>\n",
       "      <td>66.158757</td>\n",
       "      <td>90</td>\n",
       "      <td>1</td>\n",
       "    </tr>\n",
       "    <tr>\n",
       "      <th>...</th>\n",
       "      <td>...</td>\n",
       "      <td>...</td>\n",
       "      <td>...</td>\n",
       "      <td>...</td>\n",
       "      <td>...</td>\n",
       "      <td>...</td>\n",
       "      <td>...</td>\n",
       "      <td>...</td>\n",
       "      <td>...</td>\n",
       "      <td>...</td>\n",
       "      <td>...</td>\n",
       "    </tr>\n",
       "    <tr>\n",
       "      <th>279844</th>\n",
       "      <td>25</td>\n",
       "      <td>0</td>\n",
       "      <td>11.112463</td>\n",
       "      <td>412</td>\n",
       "      <td>503</td>\n",
       "      <td>2</td>\n",
       "      <td>150000</td>\n",
       "      <td>56</td>\n",
       "      <td>71.237639</td>\n",
       "      <td>55</td>\n",
       "      <td>1</td>\n",
       "    </tr>\n",
       "    <tr>\n",
       "      <th>279847</th>\n",
       "      <td>70</td>\n",
       "      <td>1</td>\n",
       "      <td>11.970357</td>\n",
       "      <td>621</td>\n",
       "      <td>277</td>\n",
       "      <td>5</td>\n",
       "      <td>94575</td>\n",
       "      <td>329</td>\n",
       "      <td>68.763160</td>\n",
       "      <td>95</td>\n",
       "      <td>1</td>\n",
       "    </tr>\n",
       "    <tr>\n",
       "      <th>279850</th>\n",
       "      <td>53</td>\n",
       "      <td>0</td>\n",
       "      <td>11.251574</td>\n",
       "      <td>467</td>\n",
       "      <td>268</td>\n",
       "      <td>3</td>\n",
       "      <td>115186</td>\n",
       "      <td>76</td>\n",
       "      <td>60.563183</td>\n",
       "      <td>71</td>\n",
       "      <td>1</td>\n",
       "    </tr>\n",
       "    <tr>\n",
       "      <th>279852</th>\n",
       "      <td>45</td>\n",
       "      <td>0</td>\n",
       "      <td>11.728045</td>\n",
       "      <td>850</td>\n",
       "      <td>476</td>\n",
       "      <td>10</td>\n",
       "      <td>80341</td>\n",
       "      <td>86</td>\n",
       "      <td>78.960607</td>\n",
       "      <td>91</td>\n",
       "      <td>1</td>\n",
       "    </tr>\n",
       "    <tr>\n",
       "      <th>279855</th>\n",
       "      <td>33</td>\n",
       "      <td>2</td>\n",
       "      <td>9.798183</td>\n",
       "      <td>474</td>\n",
       "      <td>374</td>\n",
       "      <td>3</td>\n",
       "      <td>51522</td>\n",
       "      <td>75</td>\n",
       "      <td>95.000000</td>\n",
       "      <td>59</td>\n",
       "      <td>1</td>\n",
       "    </tr>\n",
       "  </tbody>\n",
       "</table>\n",
       "<p>179042 rows × 11 columns</p>\n",
       "</div>"
      ],
      "text/plain": [
       "        age  gender     income  credit_score  credit_history_length  \\\n",
       "0        31       1  10.491302           604                    487   \n",
       "1        25       1  10.819798           447                    386   \n",
       "2        62       2  12.089544           850                    503   \n",
       "3        69       0  10.736418           668                    349   \n",
       "4        52       1  11.790565           601                    553   \n",
       "...     ...     ...        ...           ...                    ...   \n",
       "279844   25       0  11.112463           412                    503   \n",
       "279847   70       1  11.970357           621                    277   \n",
       "279850   53       0  11.251574           467                    268   \n",
       "279852   45       0  11.728045           850                    476   \n",
       "279855   33       2   9.798183           474                    374   \n",
       "\n",
       "        number_existing_loans  loan_amount  loan_tenure  ltv_ratio  \\\n",
       "0                           5       109373          221  90.943430   \n",
       "1                           2       150000           89  91.135253   \n",
       "2                          10        69099          110  40.000000   \n",
       "3                           6       150000          148  87.393365   \n",
       "4                           5       150000          157  66.158757   \n",
       "...                       ...          ...          ...        ...   \n",
       "279844                      2       150000           56  71.237639   \n",
       "279847                      5        94575          329  68.763160   \n",
       "279850                      3       115186           76  60.563183   \n",
       "279852                     10        80341           86  78.960607   \n",
       "279855                      3        51522           75  95.000000   \n",
       "\n",
       "        profile_score  Eligibilty_score  \n",
       "0                  77                 1  \n",
       "1                  43                 0  \n",
       "2                  90                 1  \n",
       "3                  86                 1  \n",
       "4                  90                 1  \n",
       "...               ...               ...  \n",
       "279844             55                 1  \n",
       "279847             95                 1  \n",
       "279850             71                 1  \n",
       "279852             91                 1  \n",
       "279855             59                 1  \n",
       "\n",
       "[179042 rows x 11 columns]"
      ]
     },
     "execution_count": 152,
     "metadata": {},
     "output_type": "execute_result"
    }
   ],
   "source": [
    "df1"
   ]
  },
  {
   "cell_type": "code",
   "execution_count": 153,
   "id": "ce6d53c3-f076-44f5-a6f4-538a4552a932",
   "metadata": {},
   "outputs": [],
   "source": [
    "data = df1.sample(n=50000)"
   ]
  },
  {
   "cell_type": "code",
   "execution_count": 154,
   "id": "11f2f24f-8041-4798-b6be-920c75ed9368",
   "metadata": {},
   "outputs": [
    {
     "name": "stdout",
     "output_type": "stream",
     "text": [
      "Index(['age', 'gender', 'income', 'credit_score', 'credit_history_length',\n",
      "       'number_existing_loans', 'loan_amount', 'loan_tenure', 'ltv_ratio',\n",
      "       'profile_score', 'Eligibilty_score'],\n",
      "      dtype='object')\n"
     ]
    }
   ],
   "source": [
    "data.columns = data.columns.str.strip()\n",
    "print(data.columns)"
   ]
  },
  {
   "cell_type": "code",
   "execution_count": 155,
   "id": "0157eec0-a2ce-4ac6-a15c-ccbfbc95fef6",
   "metadata": {},
   "outputs": [
    {
     "data": {
      "text/plain": [
       "age                      0.085758\n",
       "gender                  -0.004570\n",
       "income                   0.140141\n",
       "credit_score             0.546454\n",
       "credit_history_length    0.009358\n",
       "number_existing_loans    0.534724\n",
       "loan_amount              0.051638\n",
       "loan_tenure              0.309710\n",
       "ltv_ratio               -0.374853\n",
       "profile_score            0.797171\n",
       "Eligibilty_score         1.000000\n",
       "Name: Eligibilty_score, dtype: float64"
      ]
     },
     "execution_count": 155,
     "metadata": {},
     "output_type": "execute_result"
    }
   ],
   "source": [
    "data.corr()[\"Eligibilty_score\"]"
   ]
  },
  {
   "cell_type": "code",
   "execution_count": 156,
   "id": "9e2b978b-9ac7-43e0-8ed0-6d2d2874b90a",
   "metadata": {},
   "outputs": [],
   "source": [
    "data = data.drop(columns=[\"credit_history_length\", \"ltv_ratio\", \"gender\"], axis=1)"
   ]
  },
  {
   "cell_type": "code",
   "execution_count": 157,
   "id": "f7bd8202-675b-4451-8d5f-cab07740a1b2",
   "metadata": {},
   "outputs": [
    {
     "data": {
      "text/html": [
       "<div>\n",
       "<style scoped>\n",
       "    .dataframe tbody tr th:only-of-type {\n",
       "        vertical-align: middle;\n",
       "    }\n",
       "\n",
       "    .dataframe tbody tr th {\n",
       "        vertical-align: top;\n",
       "    }\n",
       "\n",
       "    .dataframe thead th {\n",
       "        text-align: right;\n",
       "    }\n",
       "</style>\n",
       "<table border=\"1\" class=\"dataframe\">\n",
       "  <thead>\n",
       "    <tr style=\"text-align: right;\">\n",
       "      <th></th>\n",
       "      <th>age</th>\n",
       "      <th>income</th>\n",
       "      <th>credit_score</th>\n",
       "      <th>number_existing_loans</th>\n",
       "      <th>loan_amount</th>\n",
       "      <th>loan_tenure</th>\n",
       "      <th>profile_score</th>\n",
       "      <th>Eligibilty_score</th>\n",
       "    </tr>\n",
       "  </thead>\n",
       "  <tbody>\n",
       "    <tr>\n",
       "      <th>238386</th>\n",
       "      <td>67</td>\n",
       "      <td>11.989166</td>\n",
       "      <td>850</td>\n",
       "      <td>10</td>\n",
       "      <td>150000</td>\n",
       "      <td>260</td>\n",
       "      <td>100</td>\n",
       "      <td>1</td>\n",
       "    </tr>\n",
       "    <tr>\n",
       "      <th>156642</th>\n",
       "      <td>58</td>\n",
       "      <td>11.891369</td>\n",
       "      <td>850</td>\n",
       "      <td>10</td>\n",
       "      <td>148064</td>\n",
       "      <td>326</td>\n",
       "      <td>99</td>\n",
       "      <td>1</td>\n",
       "    </tr>\n",
       "    <tr>\n",
       "      <th>157573</th>\n",
       "      <td>23</td>\n",
       "      <td>10.839601</td>\n",
       "      <td>677</td>\n",
       "      <td>6</td>\n",
       "      <td>150000</td>\n",
       "      <td>95</td>\n",
       "      <td>97</td>\n",
       "      <td>1</td>\n",
       "    </tr>\n",
       "    <tr>\n",
       "      <th>69498</th>\n",
       "      <td>46</td>\n",
       "      <td>10.968216</td>\n",
       "      <td>300</td>\n",
       "      <td>0</td>\n",
       "      <td>63280</td>\n",
       "      <td>55</td>\n",
       "      <td>45</td>\n",
       "      <td>0</td>\n",
       "    </tr>\n",
       "    <tr>\n",
       "      <th>145444</th>\n",
       "      <td>34</td>\n",
       "      <td>10.691968</td>\n",
       "      <td>323</td>\n",
       "      <td>0</td>\n",
       "      <td>59307</td>\n",
       "      <td>101</td>\n",
       "      <td>45</td>\n",
       "      <td>0</td>\n",
       "    </tr>\n",
       "    <tr>\n",
       "      <th>...</th>\n",
       "      <td>...</td>\n",
       "      <td>...</td>\n",
       "      <td>...</td>\n",
       "      <td>...</td>\n",
       "      <td>...</td>\n",
       "      <td>...</td>\n",
       "      <td>...</td>\n",
       "      <td>...</td>\n",
       "    </tr>\n",
       "    <tr>\n",
       "      <th>242063</th>\n",
       "      <td>43</td>\n",
       "      <td>11.211834</td>\n",
       "      <td>538</td>\n",
       "      <td>4</td>\n",
       "      <td>107327</td>\n",
       "      <td>55</td>\n",
       "      <td>93</td>\n",
       "      <td>1</td>\n",
       "    </tr>\n",
       "    <tr>\n",
       "      <th>164012</th>\n",
       "      <td>68</td>\n",
       "      <td>11.225257</td>\n",
       "      <td>552</td>\n",
       "      <td>4</td>\n",
       "      <td>143608</td>\n",
       "      <td>81</td>\n",
       "      <td>71</td>\n",
       "      <td>1</td>\n",
       "    </tr>\n",
       "    <tr>\n",
       "      <th>277856</th>\n",
       "      <td>26</td>\n",
       "      <td>11.198228</td>\n",
       "      <td>620</td>\n",
       "      <td>5</td>\n",
       "      <td>107250</td>\n",
       "      <td>318</td>\n",
       "      <td>77</td>\n",
       "      <td>1</td>\n",
       "    </tr>\n",
       "    <tr>\n",
       "      <th>92663</th>\n",
       "      <td>50</td>\n",
       "      <td>10.491302</td>\n",
       "      <td>300</td>\n",
       "      <td>0</td>\n",
       "      <td>88096</td>\n",
       "      <td>64</td>\n",
       "      <td>0</td>\n",
       "      <td>0</td>\n",
       "    </tr>\n",
       "    <tr>\n",
       "      <th>165099</th>\n",
       "      <td>38</td>\n",
       "      <td>10.463132</td>\n",
       "      <td>635</td>\n",
       "      <td>6</td>\n",
       "      <td>44758</td>\n",
       "      <td>64</td>\n",
       "      <td>100</td>\n",
       "      <td>1</td>\n",
       "    </tr>\n",
       "  </tbody>\n",
       "</table>\n",
       "<p>50000 rows × 8 columns</p>\n",
       "</div>"
      ],
      "text/plain": [
       "        age     income  credit_score  number_existing_loans  loan_amount  \\\n",
       "238386   67  11.989166           850                     10       150000   \n",
       "156642   58  11.891369           850                     10       148064   \n",
       "157573   23  10.839601           677                      6       150000   \n",
       "69498    46  10.968216           300                      0        63280   \n",
       "145444   34  10.691968           323                      0        59307   \n",
       "...     ...        ...           ...                    ...          ...   \n",
       "242063   43  11.211834           538                      4       107327   \n",
       "164012   68  11.225257           552                      4       143608   \n",
       "277856   26  11.198228           620                      5       107250   \n",
       "92663    50  10.491302           300                      0        88096   \n",
       "165099   38  10.463132           635                      6        44758   \n",
       "\n",
       "        loan_tenure  profile_score  Eligibilty_score  \n",
       "238386          260            100                 1  \n",
       "156642          326             99                 1  \n",
       "157573           95             97                 1  \n",
       "69498            55             45                 0  \n",
       "145444          101             45                 0  \n",
       "...             ...            ...               ...  \n",
       "242063           55             93                 1  \n",
       "164012           81             71                 1  \n",
       "277856          318             77                 1  \n",
       "92663            64              0                 0  \n",
       "165099           64            100                 1  \n",
       "\n",
       "[50000 rows x 8 columns]"
      ]
     },
     "execution_count": 157,
     "metadata": {},
     "output_type": "execute_result"
    }
   ],
   "source": [
    "data"
   ]
  },
  {
   "cell_type": "code",
   "execution_count": 158,
   "id": "415ccb00-f97c-4548-a58f-c004ed2d8f60",
   "metadata": {},
   "outputs": [],
   "source": [
    "# split dataset into training and testing data\n",
    "target = data[\"Eligibilty_score\"]\n",
    "predictor_variables = data.drop(\"Eligibilty_score\", axis=1)"
   ]
  },
  {
   "cell_type": "code",
   "execution_count": 159,
   "id": "e12af741-b72f-4eae-ae5d-a9d61a6ca1d5",
   "metadata": {},
   "outputs": [
    {
     "data": {
      "text/plain": [
       "238386    1\n",
       "156642    1\n",
       "157573    1\n",
       "69498     0\n",
       "145444    0\n",
       "         ..\n",
       "242063    1\n",
       "164012    1\n",
       "277856    1\n",
       "92663     0\n",
       "165099    1\n",
       "Name: Eligibilty_score, Length: 50000, dtype: int64"
      ]
     },
     "execution_count": 159,
     "metadata": {},
     "output_type": "execute_result"
    }
   ],
   "source": [
    "target"
   ]
  },
  {
   "cell_type": "code",
   "execution_count": 160,
   "id": "75f0d3e5-7c42-4c3d-bd2b-13e84e2a5e6a",
   "metadata": {},
   "outputs": [],
   "source": [
    "X_train, X_test, y_train, y_test = train_test_split(predictor_variables, target, test_size= 0.2, random_state= 42)"
   ]
  },
  {
   "cell_type": "code",
   "execution_count": 161,
   "id": "2a835343-75b6-485c-b034-629251a321ee",
   "metadata": {},
   "outputs": [
    {
     "name": "stdout",
     "output_type": "stream",
     "text": [
      "(40000, 7) (10000, 7)\n",
      "(40000,) (10000,)\n"
     ]
    }
   ],
   "source": [
    "print(X_train.shape, X_test.shape)\n",
    "print(y_train.shape, y_test.shape)"
   ]
  },
  {
   "cell_type": "code",
   "execution_count": 162,
   "id": "6ea1bb22-3bfb-4035-b97e-15d59980efb8",
   "metadata": {},
   "outputs": [],
   "source": [
    "# Putting models in a dictionary\n",
    "models = {\n",
    "    \"Logistic Regression\": LogisticRegression(solver='liblinear'),\n",
    "    \"DecisionTree Classifier\": DecisionTreeClassifier(),\n",
    "    \"Random Forest\": RandomForestClassifier(),\n",
    "    \"SVC\": SVC()\n",
    "}"
   ]
  },
  {
   "cell_type": "code",
   "execution_count": 163,
   "id": "f5dc1597-aa30-481f-a976-cb29d91fe2e4",
   "metadata": {},
   "outputs": [],
   "source": [
    "# Setting up a function to fit, predict and score model\n",
    "def fit_predict_and_score(models, X_train, X_test, y_train, y_test):\n",
    "    \"This fuction fit, predict and score the models using accuracy score\"\n",
    "    # making a dictionary to to keep model scores\n",
    "    model_scores = {}\n",
    "    \n",
    "    # looping through models\n",
    "    for name, model in models.items():\n",
    "        # fit the model to the data\n",
    "        model.fit(X_train, y_train)\n",
    "        training_predict = model.predict(X_train)\n",
    "        testing_predict = model.predict(X_test)\n",
    "        training_accuracy = accuracy_score(training_predict, y_train)\n",
    "        testing_accuracy = accuracy_score(testing_predict, y_test)\n",
    "        model_scores[name] = f\" has a  score of {training_accuracy} on training set and a score of {testing_accuracy} on testing set\"\n",
    "    return model_scores"
   ]
  },
  {
   "cell_type": "code",
   "execution_count": 164,
   "id": "212c5e94-306a-4321-88ff-f4ba7d38ebf0",
   "metadata": {},
   "outputs": [
    {
     "data": {
      "text/plain": [
       "{'Logistic Regression': ' has a  score of 0.978775 on training set and a score of 0.9779 on testing set',\n",
       " 'DecisionTree Classifier': ' has a  score of 1.0 on training set and a score of 1.0 on testing set',\n",
       " 'Random Forest': ' has a  score of 1.0 on training set and a score of 1.0 on testing set',\n",
       " 'SVC': ' has a  score of 0.83865 on training set and a score of 0.834 on testing set'}"
      ]
     },
     "execution_count": 164,
     "metadata": {},
     "output_type": "execute_result"
    }
   ],
   "source": [
    "# The logistic Regression and the SVC(support Vector Classifier) perform better among the models\n",
    "fit_predict_and_score(models, X_train, X_test, y_train, y_test)"
   ]
  },
  {
   "cell_type": "code",
   "execution_count": 165,
   "id": "2c40ae3d-1bce-4478-ae69-7214436cb2ea",
   "metadata": {},
   "outputs": [
    {
     "name": "stdout",
     "output_type": "stream",
     "text": [
      "LogisticRegression(solver='liblinear')\n",
      "0.978775\n",
      "DecisionTreeClassifier()\n",
      "1.0\n",
      "RandomForestClassifier()\n",
      "1.0\n",
      "SVC()\n",
      "0.83865\n"
     ]
    }
   ],
   "source": [
    "for name, model in models.items():\n",
    "    print(model.fit(X_train, y_train))\n",
    "    print(model.score(X_train, y_train))"
   ]
  },
  {
   "cell_type": "markdown",
   "id": "060f26f2-ce11-4dac-a9ac-3d795597d78a",
   "metadata": {},
   "source": [
    "### Evaluating model performance\n",
    "I evaluated the performance of the two models (DecisionTree & RandomForest Classifier) that have better score on the test dataset"
   ]
  },
  {
   "cell_type": "code",
   "execution_count": 166,
   "id": "f107961b-d6a7-4683-b1c2-abb10d3f3085",
   "metadata": {},
   "outputs": [],
   "source": [
    "from sklearn.metrics import classification_report\n",
    "from sklearn.metrics import confusion_matrix\n",
    "\n",
    "rand = RandomForestClassifier()\n",
    "rand.fit(X_train, y_train)\n",
    "rand_prediction = rand.predict(X_test)"
   ]
  },
  {
   "cell_type": "code",
   "execution_count": 167,
   "id": "1a146da1-d24b-4ce3-9b52-5c075befd21e",
   "metadata": {},
   "outputs": [
    {
     "data": {
      "text/plain": [
       "array([1, 1, 1, ..., 1, 1, 1], dtype=int64)"
      ]
     },
     "execution_count": 167,
     "metadata": {},
     "output_type": "execute_result"
    }
   ],
   "source": [
    "rand_prediction"
   ]
  },
  {
   "cell_type": "code",
   "execution_count": 92,
   "id": "02e8531f-da3b-4088-82ad-cb53961780b5",
   "metadata": {},
   "outputs": [],
   "source": [
    "rand_score = cross_val_score(rand, X_train, y_train, cv = 5, scoring = \"accuracy\")"
   ]
  },
  {
   "cell_type": "code",
   "execution_count": 93,
   "id": "ac8d5964-befe-4dff-af21-d6e91dc9a1fa",
   "metadata": {},
   "outputs": [
    {
     "data": {
      "text/plain": [
       "1.0"
      ]
     },
     "execution_count": 93,
     "metadata": {},
     "output_type": "execute_result"
    }
   ],
   "source": [
    "np.mean(rand_score)"
   ]
  },
  {
   "cell_type": "code",
   "execution_count": 94,
   "id": "72bc273f-915a-40bc-b294-ae975b5c7df3",
   "metadata": {},
   "outputs": [
    {
     "name": "stdout",
     "output_type": "stream",
     "text": [
      "              precision    recall  f1-score   support\n",
      "\n",
      "           0       1.00      1.00      1.00      1679\n",
      "           1       1.00      1.00      1.00      8321\n",
      "\n",
      "    accuracy                           1.00     10000\n",
      "   macro avg       1.00      1.00      1.00     10000\n",
      "weighted avg       1.00      1.00      1.00     10000\n",
      "\n"
     ]
    }
   ],
   "source": [
    "# Classification report\n",
    "print(classification_report(y_test, rand_prediction))"
   ]
  },
  {
   "cell_type": "markdown",
   "id": "678e3af2-8b55-49fc-b6aa-676ebfb016af",
   "metadata": {},
   "source": [
    "### Saving the trained model"
   ]
  },
  {
   "cell_type": "code",
   "execution_count": 95,
   "id": "d10fb1fe-ba49-4429-895e-1ab918df6080",
   "metadata": {},
   "outputs": [],
   "source": [
    "import pickle"
   ]
  },
  {
   "cell_type": "code",
   "execution_count": 96,
   "id": "8633f0d3-a32d-4cfd-b35b-304f7aa239f6",
   "metadata": {},
   "outputs": [],
   "source": [
    "filename = \"Vehicle Loan Database Project.sav\"\n",
    "pickle.dump(rand, open(filename, \"wb\"))"
   ]
  },
  {
   "cell_type": "markdown",
   "id": "f2a7ec3a-ed57-489e-a380-b19f526859c0",
   "metadata": {},
   "source": [
    "## Streamlit & deployment"
   ]
  },
  {
   "cell_type": "code",
   "execution_count": 97,
   "id": "668b6a28-e158-4315-be3a-bd8474c131d2",
   "metadata": {},
   "outputs": [
    {
     "data": {
      "text/plain": [
       "Index(['age', 'income', 'credit_score', 'number_existing_loans', 'loan_amount',\n",
       "       'loan_tenure', 'profile_score'],\n",
       "      dtype='object')"
      ]
     },
     "execution_count": 97,
     "metadata": {},
     "output_type": "execute_result"
    }
   ],
   "source": [
    "X_test.columns"
   ]
  },
  {
   "cell_type": "code",
   "execution_count": 168,
   "id": "42481b85-38ef-4c28-a963-41d36cfe9471",
   "metadata": {},
   "outputs": [
    {
     "name": "stdout",
     "output_type": "stream",
     "text": [
      "[65.0, 11.944714374881176, 838.0, 9.0, 67702.0, 112.0, 99.0]\n"
     ]
    }
   ],
   "source": [
    "row_index = 7\n",
    "\n",
    "# Convert to a list and print without column names\n",
    "row_values = X_test.iloc[row_index].tolist()\n",
    "print(row_values)"
   ]
  },
  {
   "cell_type": "code",
   "execution_count": 169,
   "id": "465c35a9-4abb-43fa-b8dc-e095c94cd258",
   "metadata": {},
   "outputs": [
    {
     "name": "stdout",
     "output_type": "stream",
     "text": [
      "Likely to issued vehicle loan\n"
     ]
    },
    {
     "name": "stderr",
     "output_type": "stream",
     "text": [
      "C:\\Users\\hp\\anaconda3\\Lib\\site-packages\\sklearn\\base.py:439: UserWarning: X does not have valid feature names, but RandomForestClassifier was fitted with feature names\n",
      "  warnings.warn(\n"
     ]
    }
   ],
   "source": [
    "input_data = ([65.0, 11.944714374881176, 838.0, 9.0, 67702.0, 112.0, 99.0])\n",
    "\n",
    "input_data_as_numpy_array = np.asarray(input_data)\n",
    "\n",
    "input_data_reshaped = input_data_as_numpy_array.reshape(1, -1)\n",
    "\n",
    "prediction = rand.predict(input_data_reshaped)\n",
    "\n",
    "if prediction[0] == 0:\n",
    "    print(\"Unlikely to be issued vehicle loan\")\n",
    "else:\n",
    "    print(\"Likely to issued vehicle loan\")"
   ]
  },
  {
   "cell_type": "code",
   "execution_count": null,
   "id": "4f1a0530-d219-4d14-8d0c-d472255bfd8e",
   "metadata": {},
   "outputs": [],
   "source": [
    "#deployment\n",
    "import streamlit as st\n",
    "import numpy as np\n",
    "import pickle\n",
    "\n",
    "# Load the model (assuming you have a pickled model file named 'rand_model.pkl')\n",
    "with open('Vehicle Loan Database Project.sav', 'rb') as file:\n",
    "    rand = pickle.load(file)\n",
    "\n",
    "# Define the prediction function\n",
    "def predict_vehicle_loan(input_data):\n",
    "    input_data_as_numpy_array = np.asarray(input_data)\n",
    "    input_data_reshaped = input_data_as_numpy_array.reshape(1, -1)\n",
    "    prediction = rand.predict(input_data_reshaped)\n",
    "    return prediction[0]\n",
    "\n",
    "# Streamlit app\n",
    "st.title(\"Vehicle Loan Prediction\")\n",
    "\n",
    "st.header(\"Enter the details below to predict the likelihood of being issued a vehicle loan:\")\n",
    "\n",
    "# Create input fields\n",
    "age = st.number_input(\"Age\", min_value=18, max_value=100, value=65)\n",
    "income = st.number_input(\"Income\", min_value=0.0, value=11.944714374881176)\n",
    "credit_score = st.number_input(\"Credit Score\", min_value=300, max_value=850, value=838)\n",
    "number_existing_loans = st.number_input(\"Number of Existing Loans\", min_value=0, value=9)\n",
    "loan_amount = st.number_input(\"Loan Amount\", min_value=0.0, value=67702.0)\n",
    "loan_tenure = st.number_input(\"Loan Tenure (in months)\", min_value=1, value=112)\n",
    "profile_score = st.number_input(\"Profile Score\", min_value=0, max_value=100, value=99)\n",
    "\n",
    "# Predict button\n",
    "if st.button(\"Predict\"):\n",
    "    input_data = [age, income, credit_score, number_existing_loans, loan_amount, loan_tenure, profile_score]\n",
    "    prediction = predict_vehicle_loan(input_data)\n",
    "\n",
    "    if prediction == 0:\n",
    "        st.error(\"Unlikely to be issued a vehicle loan\")\n",
    "    else:\n",
    "        st.success(\"Likely to be issued a vehicle loan\")"
   ]
  }
 ],
 "metadata": {
  "kernelspec": {
   "display_name": "Python 3 (ipykernel)",
   "language": "python",
   "name": "python3"
  },
  "language_info": {
   "codemirror_mode": {
    "name": "ipython",
    "version": 3
   },
   "file_extension": ".py",
   "mimetype": "text/x-python",
   "name": "python",
   "nbconvert_exporter": "python",
   "pygments_lexer": "ipython3",
   "version": "3.11.7"
  }
 },
 "nbformat": 4,
 "nbformat_minor": 5
}
